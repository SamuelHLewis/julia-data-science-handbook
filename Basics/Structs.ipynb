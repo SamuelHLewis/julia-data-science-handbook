{
 "cells": [
  {
   "cell_type": "markdown",
   "id": "3a29f8c8",
   "metadata": {},
   "source": [
    "# Structs"
   ]
  },
  {
   "cell_type": "markdown",
   "id": "007733b4",
   "metadata": {},
   "source": [
    "A `struct` in Julia is a name and a set of fields. By creating our own structs, we can define custom object types with specific fields.\n",
    "\n",
    "A `struct` definition is started with the `struct` keyword followed by the name of the `struct`. Then we define the name(s) of the field(s) that the `struct` has, and finally end the definition with the `end` keyword:"
   ]
  },
  {
   "cell_type": "code",
   "execution_count": 2,
   "id": "0a760322",
   "metadata": {},
   "outputs": [],
   "source": [
    "struct MyObj\n",
    "    var1\n",
    "    var2\n",
    "end"
   ]
  },
  {
   "cell_type": "markdown",
   "id": "a4a56984",
   "metadata": {},
   "source": [
    "Now we can assign an instance of this new `struct` to a variable, defining values for the fields:"
   ]
  },
  {
   "cell_type": "code",
   "execution_count": 19,
   "id": "16fcfa95",
   "metadata": {},
   "outputs": [
    {
     "name": "stdout",
     "output_type": "stream",
     "text": [
      "Norman\n"
     ]
    }
   ],
   "source": [
    "obj1 = MyObj(\"Norman\", \"Wisdom\")\n",
    "println(obj1.var1)"
   ]
  },
  {
   "cell_type": "markdown",
   "id": "07da2661",
   "metadata": {},
   "source": [
    "By default, all `structs` are **immutable** - once the values of their fields have been set, they cannot be changed:"
   ]
  },
  {
   "cell_type": "code",
   "execution_count": 6,
   "id": "324f6173",
   "metadata": {},
   "outputs": [
    {
     "ename": "LoadError",
     "evalue": "setfield!: immutable struct of type MyObj cannot be changed",
     "output_type": "error",
     "traceback": [
      "setfield!: immutable struct of type MyObj cannot be changed",
      "",
      "Stacktrace:",
      " [1] setproperty!(x::MyObj, f::Symbol, v::String)",
      "   @ Base ./Base.jl:43",
      " [2] top-level scope",
      "   @ In[6]:1",
      " [3] eval",
      "   @ ./boot.jl:373 [inlined]",
      " [4] include_string(mapexpr::typeof(REPL.softscope), mod::Module, code::String, filename::String)",
      "   @ Base ./loading.jl:1196"
     ]
    }
   ],
   "source": [
    "obj1.var1 = \"Leslie\""
   ]
  },
  {
   "cell_type": "markdown",
   "id": "cfafd1f3",
   "metadata": {},
   "source": [
    "Note that we cannot instantiate a `struct` without setting the field values, so this isn't a way around the immutability"
   ]
  },
  {
   "cell_type": "code",
   "execution_count": 7,
   "id": "31bd0cc7",
   "metadata": {},
   "outputs": [
    {
     "ename": "LoadError",
     "evalue": "MethodError: no method matching MyObj()\n\u001b[0mClosest candidates are:\n\u001b[0m  MyObj(\u001b[91m::Any\u001b[39m, \u001b[91m::Any\u001b[39m) at In[2]:2",
     "output_type": "error",
     "traceback": [
      "MethodError: no method matching MyObj()\n\u001b[0mClosest candidates are:\n\u001b[0m  MyObj(\u001b[91m::Any\u001b[39m, \u001b[91m::Any\u001b[39m) at In[2]:2",
      "",
      "Stacktrace:",
      " [1] top-level scope",
      "   @ In[7]:1",
      " [2] eval",
      "   @ ./boot.jl:373 [inlined]",
      " [3] include_string(mapexpr::typeof(REPL.softscope), mod::Module, code::String, filename::String)",
      "   @ Base ./loading.jl:1196"
     ]
    }
   ],
   "source": [
    "obj2 = MyObj()"
   ]
  },
  {
   "cell_type": "markdown",
   "id": "7cf33c45",
   "metadata": {},
   "source": [
    "## Mutable structs\n",
    "If we want to be able to change the values of fields for a `struct` after it has been instantiated, we need to specifically define the `struct` as a **mutable** `struct`"
   ]
  },
  {
   "cell_type": "code",
   "execution_count": 1,
   "id": "7222097f",
   "metadata": {},
   "outputs": [],
   "source": [
    "mutable struct Singer\n",
    "    name\n",
    "    yob\n",
    "end"
   ]
  },
  {
   "cell_type": "markdown",
   "id": "ea1b5c5c",
   "metadata": {},
   "source": [
    "Now we can instantiate the `struct` and then change the values of the fields later:"
   ]
  },
  {
   "cell_type": "code",
   "execution_count": 3,
   "id": "7aff300c",
   "metadata": {},
   "outputs": [
    {
     "name": "stdout",
     "output_type": "stream",
     "text": [
      "Name = Prince\n",
      "Name = The artist formerly known as Prince\n"
     ]
    }
   ],
   "source": [
    "prince = Singer(\"Prince\", 1958)\n",
    "println(\"Name = \", prince.name)\n",
    "prince.name = \"The artist formerly known as Prince\"\n",
    "println(\"Name = \", prince.name)"
   ]
  },
  {
   "cell_type": "markdown",
   "id": "a3f770cd",
   "metadata": {},
   "source": [
    "Not only can we change the value assigned to the field, but also the type of value i.e. going from an into to a string"
   ]
  },
  {
   "cell_type": "code",
   "execution_count": 7,
   "id": "839c5b3e",
   "metadata": {},
   "outputs": [
    {
     "name": "stdout",
     "output_type": "stream",
     "text": [
      "Year of birth = 1958\n",
      "Year of birth = Nineteen fifty eight\n"
     ]
    }
   ],
   "source": [
    "prince = Singer(\"Prince\", 1958)\n",
    "println(\"Year of birth = \", prince.yob)\n",
    "prince.yob = \"Nineteen fifty eight\"\n",
    "println(\"Year of birth = \", prince.yob)"
   ]
  },
  {
   "cell_type": "markdown",
   "id": "04a41541",
   "metadata": {},
   "source": [
    "## Defining field types\n",
    "As we saw above, field values can change from one type to another. However, we can restrict a field to one type by declaring the type in the `struct` definition"
   ]
  },
  {
   "cell_type": "code",
   "execution_count": 10,
   "id": "cf91c31f",
   "metadata": {},
   "outputs": [
    {
     "name": "stdout",
     "output_type": "stream",
     "text": [
      "The car is a Mustang made by Ford, and has 8 cylinders\n"
     ]
    }
   ],
   "source": [
    "mutable struct Car\n",
    "    make::String\n",
    "    model::String\n",
    "    cylinders::Int\n",
    "end\n",
    "\n",
    "mustang = Car(\"Ford\", \"Mustang\", 8)\n",
    "println(\"The car is a \", mustang.model, \" made by \", mustang.make, \", and has \", mustang.cylinders, \" cylinders\")"
   ]
  },
  {
   "cell_type": "markdown",
   "id": "fb888178",
   "metadata": {},
   "source": [
    "This means that we can only change the value of a field if our new value is the correct type. If we try to set the value to a different type, we get an error:"
   ]
  },
  {
   "cell_type": "code",
   "execution_count": 11,
   "id": "499e8e4e",
   "metadata": {},
   "outputs": [
    {
     "ename": "LoadError",
     "evalue": "MethodError: \u001b[0mCannot `convert` an object of type \u001b[92mString\u001b[39m\u001b[0m to an object of type \u001b[91mInt64\u001b[39m\n\u001b[0mClosest candidates are:\n\u001b[0m  convert(::Type{T}, \u001b[91m::T\u001b[39m) where T<:Number at /Applications/Julia-1.7.app/Contents/Resources/julia/share/julia/base/number.jl:6\n\u001b[0m  convert(::Type{T}, \u001b[91m::Number\u001b[39m) where T<:Number at /Applications/Julia-1.7.app/Contents/Resources/julia/share/julia/base/number.jl:7\n\u001b[0m  convert(::Type{T}, \u001b[91m::Base.TwicePrecision\u001b[39m) where T<:Number at /Applications/Julia-1.7.app/Contents/Resources/julia/share/julia/base/twiceprecision.jl:262\n\u001b[0m  ...",
     "output_type": "error",
     "traceback": [
      "MethodError: \u001b[0mCannot `convert` an object of type \u001b[92mString\u001b[39m\u001b[0m to an object of type \u001b[91mInt64\u001b[39m\n\u001b[0mClosest candidates are:\n\u001b[0m  convert(::Type{T}, \u001b[91m::T\u001b[39m) where T<:Number at /Applications/Julia-1.7.app/Contents/Resources/julia/share/julia/base/number.jl:6\n\u001b[0m  convert(::Type{T}, \u001b[91m::Number\u001b[39m) where T<:Number at /Applications/Julia-1.7.app/Contents/Resources/julia/share/julia/base/number.jl:7\n\u001b[0m  convert(::Type{T}, \u001b[91m::Base.TwicePrecision\u001b[39m) where T<:Number at /Applications/Julia-1.7.app/Contents/Resources/julia/share/julia/base/twiceprecision.jl:262\n\u001b[0m  ...",
      "",
      "Stacktrace:",
      " [1] Car(make::String, model::String, cylinders::String)",
      "   @ Main ./In[10]:2",
      " [2] top-level scope",
      "   @ In[11]:1",
      " [3] eval",
      "   @ ./boot.jl:373 [inlined]",
      " [4] include_string(mapexpr::typeof(REPL.softscope), mod::Module, code::String, filename::String)",
      "   @ Base ./loading.jl:1196"
     ]
    }
   ],
   "source": [
    "carrera = Car(\"Porsche\", \"Carrera\", \"six\")"
   ]
  },
  {
   "cell_type": "markdown",
   "id": "4afb520a",
   "metadata": {},
   "source": [
    "## Defining functions for structs\n",
    "\n",
    "While a `struct` allows us to use many of the object-oriented design patterns that a `Class` does in Python, there is an important difference: a `struct` does not have any methods associated with it. This is because Julia chooses which method to use for a function by multiple dispatch, so basically the functions have to be declared separately from the `struct` even if you only intend to use them on a specific `struct`. To create functions that are specific to one `struct` we can define the type of its argument:"
   ]
  },
  {
   "cell_type": "code",
   "execution_count": 15,
   "id": "f204bbe4",
   "metadata": {},
   "outputs": [
    {
     "name": "stdout",
     "output_type": "stream",
     "text": [
      "Before her birthday, Mary is 56\n",
      "After her birthday, Mary is 57\n"
     ]
    }
   ],
   "source": [
    "mutable struct Person\n",
    "    name::String\n",
    "    age::Int64\n",
    "end\n",
    "\n",
    "function birthday(person::Person)\n",
    "    person.age += 1\n",
    "end\n",
    "\n",
    "mary = Person(\"Mary\", 56)\n",
    "println(\"Before her birthday, Mary is \", mary.age)\n",
    "\n",
    "birthday(mary)\n",
    "println(\"After her birthday, Mary is \", mary.age)"
   ]
  },
  {
   "cell_type": "markdown",
   "id": "1b49f550",
   "metadata": {},
   "source": [
    "Now if we try to call this function on another type of `struct`, it won't work"
   ]
  },
  {
   "cell_type": "code",
   "execution_count": 17,
   "id": "96f1c71e",
   "metadata": {},
   "outputs": [
    {
     "ename": "LoadError",
     "evalue": "MethodError: no method matching birthday(::Pet)\n\u001b[0mClosest candidates are:\n\u001b[0m  birthday(\u001b[91m::Person\u001b[39m) at In[15]:6",
     "output_type": "error",
     "traceback": [
      "MethodError: no method matching birthday(::Pet)\n\u001b[0mClosest candidates are:\n\u001b[0m  birthday(\u001b[91m::Person\u001b[39m) at In[15]:6",
      "",
      "Stacktrace:",
      " [1] top-level scope",
      "   @ In[17]:7",
      " [2] eval",
      "   @ ./boot.jl:373 [inlined]",
      " [3] include_string(mapexpr::typeof(REPL.softscope), mod::Module, code::String, filename::String)",
      "   @ Base ./loading.jl:1196"
     ]
    }
   ],
   "source": [
    "mutable struct Pet\n",
    "    name::String\n",
    "    age::Int64\n",
    "end\n",
    "\n",
    "cat = Pet(\"Alonso\", 5)\n",
    "birthday(cat)"
   ]
  },
  {
   "cell_type": "code",
   "execution_count": null,
   "id": "e2ebcabe",
   "metadata": {},
   "outputs": [],
   "source": []
  }
 ],
 "metadata": {
  "kernelspec": {
   "display_name": "Julia 1.7.3",
   "language": "julia",
   "name": "julia-1.7"
  },
  "language_info": {
   "file_extension": ".jl",
   "mimetype": "application/julia",
   "name": "julia",
   "version": "1.7.3"
  }
 },
 "nbformat": 4,
 "nbformat_minor": 5
}
