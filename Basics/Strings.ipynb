{
 "cells": [
  {
   "cell_type": "markdown",
   "id": "15648c57",
   "metadata": {},
   "source": [
    "# Strings"
   ]
  },
  {
   "cell_type": "markdown",
   "id": "aef48f65",
   "metadata": {},
   "source": [
    "## Creating strings"
   ]
  },
  {
   "cell_type": "markdown",
   "id": "7c0ad94b",
   "metadata": {},
   "source": [
    "Strings can be created with one set of double-quotes, or three sets of double-quotes"
   ]
  },
  {
   "cell_type": "code",
   "execution_count": 2,
   "id": "87319508",
   "metadata": {},
   "outputs": [
    {
     "name": "stdout",
     "output_type": "stream",
     "text": [
      "String\n",
      "String\n"
     ]
    }
   ],
   "source": [
    "string1 = \"string1\"\n",
    "string2 = \"\"\"string2\"\"\"\n",
    "println(typeof(string1))\n",
    "println(typeof(string2))"
   ]
  },
  {
   "cell_type": "markdown",
   "id": "6f626019",
   "metadata": {},
   "source": [
    "If you want to include a double-quotes *within* your string, you have to use three sets of double-quotes"
   ]
  },
  {
   "cell_type": "code",
   "execution_count": 3,
   "id": "659317a6",
   "metadata": {},
   "outputs": [
    {
     "name": "stdout",
     "output_type": "stream",
     "text": [
      "Everybody in the house say \"Hey!\" \n"
     ]
    }
   ],
   "source": [
    "correct = \"\"\"Everybody in the house say \"Hey!\" \"\"\"\n",
    "println(correct)"
   ]
  },
  {
   "cell_type": "markdown",
   "id": "5c60ed08",
   "metadata": {},
   "source": [
    "We can use the `$` sign to insert variables and evaluate expressions within strings"
   ]
  },
  {
   "cell_type": "code",
   "execution_count": 4,
   "id": "f272cc88",
   "metadata": {},
   "outputs": [
    {
     "name": "stdout",
     "output_type": "stream",
     "text": [
      "A monkey has 2 legs and 2 arms, making 4 appendages in total\n"
     ]
    }
   ],
   "source": [
    "legs = 2\n",
    "arms = 2\n",
    "println(\"A monkey has $legs legs and $arms arms, making $(legs+arms) appendages in total\")"
   ]
  },
  {
   "cell_type": "markdown",
   "id": "4e350462",
   "metadata": {},
   "source": [
    "## Concatenating strings"
   ]
  },
  {
   "cell_type": "markdown",
   "id": "ee9f786f",
   "metadata": {},
   "source": [
    "We can combine multiple strings together in 3 different ways. First let's define some words to combine together"
   ]
  },
  {
   "cell_type": "code",
   "execution_count": 5,
   "id": "e9db573a",
   "metadata": {},
   "outputs": [
    {
     "data": {
      "text/plain": [
       "\"fun\""
      ]
     },
     "execution_count": 5,
     "metadata": {},
     "output_type": "execute_result"
    }
   ],
   "source": [
    "word1 = \"Julia\"\n",
    "word2 = \"is\"\n",
    "word3 = \"fun\""
   ]
  },
  {
   "cell_type": "markdown",
   "id": "b158175e",
   "metadata": {},
   "source": [
    "Firstly, we can use the `string()` function to create a string from multiple arguments. Note that this function doesn't include any separators between the elements, so we have to include spaces manually"
   ]
  },
  {
   "cell_type": "code",
   "execution_count": 6,
   "id": "ad48bf3d",
   "metadata": {},
   "outputs": [
    {
     "data": {
      "text/plain": [
       "\"Julia is fun\""
      ]
     },
     "execution_count": 6,
     "metadata": {},
     "output_type": "execute_result"
    }
   ],
   "source": [
    "string(word1, \" \", word2, \" \", word3)"
   ]
  },
  {
   "cell_type": "markdown",
   "id": "66db38e6",
   "metadata": {},
   "source": [
    "Secondly, we can use the `*` operator. Again, we have to include the separators manually"
   ]
  },
  {
   "cell_type": "code",
   "execution_count": 7,
   "id": "232e6910",
   "metadata": {},
   "outputs": [
    {
     "data": {
      "text/plain": [
       "\"Julia is fun\""
      ]
     },
     "execution_count": 7,
     "metadata": {},
     "output_type": "execute_result"
    }
   ],
   "source": [
    "word1*\" \"*word2*\" \"*word3"
   ]
  },
  {
   "cell_type": "markdown",
   "id": "55cf68b5",
   "metadata": {},
   "source": [
    "Finally, we can use the `$` operator. Again, we have to include the separators manually, but using this method we don't have to wrap each separator in double-quotes"
   ]
  },
  {
   "cell_type": "code",
   "execution_count": 8,
   "id": "9ff13710",
   "metadata": {},
   "outputs": [
    {
     "data": {
      "text/plain": [
       "\"Julia is fun\""
      ]
     },
     "execution_count": 8,
     "metadata": {},
     "output_type": "execute_result"
    }
   ],
   "source": [
    "\"$word1 $word2 $word3\""
   ]
  }
 ],
 "metadata": {
  "kernelspec": {
   "display_name": "Julia 1.7.3",
   "language": "julia",
   "name": "julia-1.7"
  },
  "language_info": {
   "file_extension": ".jl",
   "mimetype": "application/julia",
   "name": "julia",
   "version": "1.7.3"
  }
 },
 "nbformat": 4,
 "nbformat_minor": 5
}
