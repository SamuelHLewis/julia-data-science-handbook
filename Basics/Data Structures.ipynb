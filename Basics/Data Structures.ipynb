{
 "cells": [
  {
   "cell_type": "markdown",
   "id": "15648c57",
   "metadata": {},
   "source": [
    "# Data Structures"
   ]
  },
  {
   "cell_type": "markdown",
   "id": "d7df9558",
   "metadata": {},
   "source": [
    "## Dictionaries\n",
    "Dictionaries allow us to define key:value pairs, and although the syntax might look a little odd, they function in a similar way to Python. We can define a new dictionary using a single line or split across multiple lines"
   ]
  },
  {
   "cell_type": "code",
   "execution_count": 9,
   "id": "f0489449",
   "metadata": {},
   "outputs": [
    {
     "data": {
      "text/plain": [
       "Dict{String, Real} with 2 entries:\n",
       "  \"Height\" => 2.0\n",
       "  \"Weight\" => 65"
      ]
     },
     "execution_count": 9,
     "metadata": {},
     "output_type": "execute_result"
    }
   ],
   "source": [
    "dict1 = Dict(\"Height\" => 2.0, \"Weight\" => 65)"
   ]
  },
  {
   "cell_type": "code",
   "execution_count": 10,
   "id": "3fa9b7eb",
   "metadata": {},
   "outputs": [
    {
     "name": "stdout",
     "output_type": "stream",
     "text": [
      "Dict(\"Height\" => \"2.0\", \"Weight\" => \"65\")"
     ]
    }
   ],
   "source": [
    "dict2 = Dict(\n",
    "    \"Height\" => \"2.0\",\n",
    "    \"Weight\" => \"65\"\n",
    ")\n",
    "print(dict2)"
   ]
  },
  {
   "cell_type": "markdown",
   "id": "b90c56dd",
   "metadata": {},
   "source": [
    "We can retrieve the value for a given key using square brackets"
   ]
  },
  {
   "cell_type": "code",
   "execution_count": 11,
   "id": "190caf08",
   "metadata": {},
   "outputs": [
    {
     "data": {
      "text/plain": [
       "\"2.0\""
      ]
     },
     "execution_count": 11,
     "metadata": {},
     "output_type": "execute_result"
    }
   ],
   "source": [
    "dict2[\"Height\"]"
   ]
  },
  {
   "cell_type": "markdown",
   "id": "0d9a4d10",
   "metadata": {},
   "source": [
    "We can add new elements to an existing dictionary using square brackets"
   ]
  },
  {
   "cell_type": "code",
   "execution_count": 12,
   "id": "42d5b0df",
   "metadata": {},
   "outputs": [
    {
     "name": "stdout",
     "output_type": "stream",
     "text": [
      "Dict(\"Height\" => \"2.0\", \"Shape\" => \"Round\", \"Weight\" => \"65\")"
     ]
    }
   ],
   "source": [
    "dict2[\"Shape\"] = \"Round\"\n",
    "print(dict2)"
   ]
  },
  {
   "cell_type": "markdown",
   "id": "344ad2e0",
   "metadata": {},
   "source": [
    "We can remove an element from a dictionary using the `pop!()` function"
   ]
  },
  {
   "cell_type": "code",
   "execution_count": 13,
   "id": "6752c350",
   "metadata": {},
   "outputs": [
    {
     "name": "stdout",
     "output_type": "stream",
     "text": [
      "Dict(\"Height\" => \"2.0\", \"Weight\" => \"65\")"
     ]
    }
   ],
   "source": [
    "pop!(dict2, \"Shape\")\n",
    "print(dict2)"
   ]
  },
  {
   "cell_type": "markdown",
   "id": "86eda998",
   "metadata": {},
   "source": [
    "Dicts are not ordered, so we can't index into them. If we try, Julia will think that we are referring to a key rather than a position"
   ]
  },
  {
   "cell_type": "code",
   "execution_count": 14,
   "id": "d57487bc",
   "metadata": {},
   "outputs": [
    {
     "ename": "LoadError",
     "evalue": "KeyError: key 1 not found",
     "output_type": "error",
     "traceback": [
      "KeyError: key 1 not found",
      "",
      "Stacktrace:",
      " [1] getindex(h::Dict{String, Real}, key::Int64)",
      "   @ Base ./dict.jl:481",
      " [2] top-level scope",
      "   @ In[14]:1",
      " [3] eval",
      "   @ ./boot.jl:373 [inlined]",
      " [4] include_string(mapexpr::typeof(REPL.softscope), mod::Module, code::String, filename::String)",
      "   @ Base ./loading.jl:1196"
     ]
    }
   ],
   "source": [
    "dict1[1]"
   ]
  },
  {
   "cell_type": "markdown",
   "id": "a4ceb646",
   "metadata": {},
   "source": [
    "## Tuples\n",
    "Tuples are defined by using the round brackets"
   ]
  },
  {
   "cell_type": "code",
   "execution_count": 15,
   "id": "1ae40ea0",
   "metadata": {},
   "outputs": [
    {
     "data": {
      "text/plain": [
       "(\"London\", \"Paris\", \"Madrid\")"
      ]
     },
     "execution_count": 15,
     "metadata": {},
     "output_type": "execute_result"
    }
   ],
   "source": [
    "tuple1 = (\"London\", \"Paris\", \"Madrid\")\n",
    "tuple1"
   ]
  },
  {
   "cell_type": "markdown",
   "id": "0a4db7ff",
   "metadata": {},
   "source": [
    "Tuples can contain a mix of different element types"
   ]
  },
  {
   "cell_type": "code",
   "execution_count": 23,
   "id": "7d9e29d6",
   "metadata": {},
   "outputs": [
    {
     "data": {
      "text/plain": [
       "(1, 2.0, \"three\")"
      ]
     },
     "execution_count": 23,
     "metadata": {},
     "output_type": "execute_result"
    }
   ],
   "source": [
    "tuple2 = (1, 2.0, \"three\")"
   ]
  },
  {
   "cell_type": "markdown",
   "id": "3b3e2ca9",
   "metadata": {},
   "source": [
    "Tuples are ordered, so we can pull specific elements out by indexing. Note that Julia is 1-based"
   ]
  },
  {
   "cell_type": "code",
   "execution_count": 17,
   "id": "16ad7856",
   "metadata": {},
   "outputs": [
    {
     "data": {
      "text/plain": [
       "\"London\""
      ]
     },
     "execution_count": 17,
     "metadata": {},
     "output_type": "execute_result"
    }
   ],
   "source": [
    "tuple1[1]"
   ]
  },
  {
   "cell_type": "markdown",
   "id": "5078a93b",
   "metadata": {},
   "source": [
    "Tuples are immutable, so we can't add or remove elements once a tuple has been defined"
   ]
  },
  {
   "cell_type": "code",
   "execution_count": 18,
   "id": "572e6977",
   "metadata": {},
   "outputs": [
    {
     "ename": "LoadError",
     "evalue": "MethodError: no method matching setindex!(::Tuple{String, String, String}, ::String, ::Int64)",
     "output_type": "error",
     "traceback": [
      "MethodError: no method matching setindex!(::Tuple{String, String, String}, ::String, ::Int64)",
      "",
      "Stacktrace:",
      " [1] top-level scope",
      "   @ In[18]:1",
      " [2] eval",
      "   @ ./boot.jl:373 [inlined]",
      " [3] include_string(mapexpr::typeof(REPL.softscope), mod::Module, code::String, filename::String)",
      "   @ Base ./loading.jl:1196"
     ]
    }
   ],
   "source": [
    "tuple1[1] = \"Berlin\""
   ]
  },
  {
   "cell_type": "markdown",
   "id": "ef3e3868",
   "metadata": {},
   "source": [
    "We can also create a `NamedTuple` in which each element is labelled with a name. Note that the names should not be enclosed in quotes, but the elements should be"
   ]
  },
  {
   "cell_type": "code",
   "execution_count": 8,
   "id": "9243d213",
   "metadata": {},
   "outputs": [
    {
     "data": {
      "text/plain": [
       "(bread = \"wholemeal\", spread = \"mustard\", filling = \"ham\")"
      ]
     },
     "execution_count": 8,
     "metadata": {},
     "output_type": "execute_result"
    }
   ],
   "source": [
    "named_tuple = (\n",
    "    bread = \"wholemeal\",\n",
    "    spread = \"mustard\",\n",
    "    filling = \"ham\"\n",
    ")"
   ]
  },
  {
   "cell_type": "markdown",
   "id": "8ad72d21",
   "metadata": {},
   "source": [
    "We can then pull out an element from a named tuple using either the index or the name. Note that the name must be specified using the `array.name` syntax, rather than square brackets"
   ]
  },
  {
   "cell_type": "code",
   "execution_count": 9,
   "id": "12489f3f",
   "metadata": {},
   "outputs": [
    {
     "name": "stdout",
     "output_type": "stream",
     "text": [
      "ham\n",
      "ham\n"
     ]
    }
   ],
   "source": [
    "println(named_tuple[3])\n",
    "println(named_tuple.filling)"
   ]
  },
  {
   "cell_type": "markdown",
   "id": "46967784",
   "metadata": {},
   "source": [
    "## Arrays\n",
    "Arrays are defined using the square brackets"
   ]
  },
  {
   "cell_type": "code",
   "execution_count": 26,
   "id": "11be7b2c",
   "metadata": {},
   "outputs": [
    {
     "data": {
      "text/plain": [
       "3-element Vector{String}:\n",
       " \"Abuja\"\n",
       " \"Pretoria\"\n",
       " \"Nairobi\""
      ]
     },
     "execution_count": 26,
     "metadata": {},
     "output_type": "execute_result"
    }
   ],
   "source": [
    "array1 = [\"Abuja\", \"Pretoria\", \"Nairobi\"]\n",
    "array1"
   ]
  },
  {
   "cell_type": "markdown",
   "id": "8ad3a941",
   "metadata": {},
   "source": [
    "Like tuples, arrays can consists of a mix of different types of element"
   ]
  },
  {
   "cell_type": "code",
   "execution_count": 24,
   "id": "c23b73a3",
   "metadata": {},
   "outputs": [
    {
     "data": {
      "text/plain": [
       "3-element Vector{Any}:\n",
       " 10\n",
       " 20.0\n",
       "   \"thirty\""
      ]
     },
     "execution_count": 24,
     "metadata": {},
     "output_type": "execute_result"
    }
   ],
   "source": [
    "array2 = [10, 20.0, \"thirty\"]"
   ]
  },
  {
   "cell_type": "markdown",
   "id": "cbec6cdd",
   "metadata": {},
   "source": [
    "Like tuples, arrays are ordered and we can pull specific elements out by indexing"
   ]
  },
  {
   "cell_type": "code",
   "execution_count": 20,
   "id": "2e79f578",
   "metadata": {},
   "outputs": [
    {
     "data": {
      "text/plain": [
       "\"Abuja\""
      ]
     },
     "execution_count": 20,
     "metadata": {},
     "output_type": "execute_result"
    }
   ],
   "source": [
    "array1[1]"
   ]
  },
  {
   "cell_type": "markdown",
   "id": "27ea3716",
   "metadata": {},
   "source": [
    "Unlike tuples, arrays are mutable, so we can replace elements"
   ]
  },
  {
   "cell_type": "code",
   "execution_count": 27,
   "id": "8c1bcdb8",
   "metadata": {},
   "outputs": [
    {
     "name": "stdout",
     "output_type": "stream",
     "text": [
      "Before replacement\n",
      "[\"Abuja\", \"Pretoria\", \"Nairobi\"]\n",
      "After replacement\n",
      "[\"Kampala\", \"Pretoria\", \"Nairobi\"]\n"
     ]
    }
   ],
   "source": [
    "println(\"Before replacement:\")\n",
    "println(array1)\n",
    "array1[1] = \"Kampala\"\n",
    "println(\"After replacement:\")\n",
    "println(array1)"
   ]
  },
  {
   "cell_type": "markdown",
   "id": "3b598e8f",
   "metadata": {},
   "source": [
    "We can use the `push!()` and `pop!()` functions to add and remove elements to an array. Both functions operate on the last element in the array"
   ]
  },
  {
   "cell_type": "code",
   "execution_count": 29,
   "id": "5ee1b654",
   "metadata": {},
   "outputs": [
    {
     "name": "stdout",
     "output_type": "stream",
     "text": [
      "Before adding an element:\n",
      "[\"Kampala\", \"Pretoria\", \"Nairobi\"]\n",
      "After adding an element:\n",
      "[\"Kampala\", \"Pretoria\", \"Nairobi\", \"Cairo\"]\n",
      "After removing an element:\n",
      "[\"Kampala\", \"Pretoria\", \"Nairobi\"]\n"
     ]
    }
   ],
   "source": [
    "println(\"Before adding an element:\")\n",
    "println(array1)\n",
    "push!(array1, \"Cairo\")\n",
    "println(\"After adding an element:\")\n",
    "println(array1)\n",
    "pop!(array1)\n",
    "println(\"After removing an element:\")\n",
    "println(array1)"
   ]
  },
  {
   "cell_type": "markdown",
   "id": "4ce953b5",
   "metadata": {},
   "source": [
    "We can make arrays of arrays, and the number of elements in each array don't have to match"
   ]
  },
  {
   "cell_type": "code",
   "execution_count": 30,
   "id": "1f03c5ee",
   "metadata": {},
   "outputs": [
    {
     "data": {
      "text/plain": [
       "2-element Vector{Vector{Int64}}:\n",
       " [1, 2, 3]\n",
       " [4, 5, 6, 7]"
      ]
     },
     "execution_count": 30,
     "metadata": {},
     "output_type": "execute_result"
    }
   ],
   "source": [
    "array2D = [[1,2,3], [4,5,6,7]]"
   ]
  },
  {
   "cell_type": "markdown",
   "id": "7d32cd19",
   "metadata": {},
   "source": [
    "We can use the `rand()` function to create arrays of specific dimensions, filled with random numbers"
   ]
  },
  {
   "cell_type": "code",
   "execution_count": 31,
   "id": "e56e45ae",
   "metadata": {},
   "outputs": [
    {
     "data": {
      "text/plain": [
       "2×3 Matrix{Float64}:\n",
       " 0.503912  0.645175  0.838505\n",
       " 0.758581  0.885753  0.104204"
      ]
     },
     "execution_count": 31,
     "metadata": {},
     "output_type": "execute_result"
    }
   ],
   "source": [
    "rand(2,3)"
   ]
  },
  {
   "cell_type": "code",
   "execution_count": 33,
   "id": "0f5aa43c",
   "metadata": {},
   "outputs": [
    {
     "data": {
      "text/plain": [
       "4×4×2 Array{Float64, 3}:\n",
       "[:, :, 1] =\n",
       " 0.218227  0.0619945  0.439065  0.178514\n",
       " 0.540952  0.0362924  0.765371  0.222261\n",
       " 0.146376  0.666526   0.331442  0.74667\n",
       " 0.819047  0.717257   0.402485  0.935024\n",
       "\n",
       "[:, :, 2] =\n",
       " 0.46346   0.317863   0.841189  0.0925654\n",
       " 0.865755  0.609009   0.799404  0.292868\n",
       " 0.51869   0.0967594  0.662191  0.2351\n",
       " 0.463763  0.707851   0.577461  0.237335"
      ]
     },
     "execution_count": 33,
     "metadata": {},
     "output_type": "execute_result"
    }
   ],
   "source": [
    "rand(4, 4, 2)"
   ]
  },
  {
   "cell_type": "code",
   "execution_count": null,
   "id": "680a8638",
   "metadata": {},
   "outputs": [],
   "source": []
  }
 ],
 "metadata": {
  "kernelspec": {
   "display_name": "Julia 1.7.3",
   "language": "julia",
   "name": "julia-1.7"
  },
  "language_info": {
   "file_extension": ".jl",
   "mimetype": "application/julia",
   "name": "julia",
   "version": "1.7.3"
  }
 },
 "nbformat": 4,
 "nbformat_minor": 5
}
