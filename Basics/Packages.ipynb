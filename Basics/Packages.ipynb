{
 "cells": [
  {
   "cell_type": "markdown",
   "id": "d2fad905",
   "metadata": {},
   "source": [
    "# Packages\n",
    "As of July 2022, Julia has almost 8,000 packages that can be loaded to provide additional functionality. These can be found in a couple of places:\n",
    "* the [Julia Registry](https://github.com/JuliaRegistries/General) is the default package registry, and holds the files that are downloaded when you run the package installer from the Julia REPL\n",
    "* the [Julia Packages site](https://juliapackages.com/) provides a more user-friendly interface to the Julia Registry. It has options to search on package name, see all packages written by a specific developer, and sort all packages by date of release or update. I also tracks which packages are trending\n",
    "* the [JuliaHub Packages page](https://juliahub.com/ui/Packages) also allows searching of the Julia Registry, and gives options to search packages by license type as well as name. It also has tags to collect packages by topic e.g. `machine-learning` or `Bayesian-statistics`"
   ]
  },
  {
   "cell_type": "markdown",
   "id": "0fe7fd3d",
   "metadata": {},
   "source": [
    "## Loading Packages\n",
    "Packages are loaded by the `using` keyword. For example, to load the `Pkg` package (which we use to install other packages), we would call:"
   ]
  },
  {
   "cell_type": "code",
   "execution_count": 1,
   "id": "aea54105",
   "metadata": {},
   "outputs": [],
   "source": [
    "using Pkg"
   ]
  },
  {
   "cell_type": "markdown",
   "id": "bc58912c",
   "metadata": {},
   "source": [
    "## Installing Packages\n",
    "Packages are installed by using the `add()` function from the inbuilt package `Pkg`. This can be called straight from a notebook: "
   ]
  },
  {
   "cell_type": "code",
   "execution_count": 7,
   "id": "cee5f43c",
   "metadata": {},
   "outputs": [
    {
     "name": "stderr",
     "output_type": "stream",
     "text": [
      "\u001b[32m\u001b[1m   Resolving\u001b[22m\u001b[39m package versions...\n",
      "\u001b[32m\u001b[1m  No Changes\u001b[22m\u001b[39m to `~/.julia/environments/v1.7/Project.toml`\n",
      "\u001b[32m\u001b[1m  No Changes\u001b[22m\u001b[39m to `~/.julia/environments/v1.7/Manifest.toml`\n"
     ]
    }
   ],
   "source": [
    "using Pkg\n",
    "Pkg.add(\"Example\")"
   ]
  },
  {
   "cell_type": "markdown",
   "id": "928202c0",
   "metadata": {},
   "source": [
    "## Using Packages"
   ]
  },
  {
   "cell_type": "markdown",
   "id": "6ed97fbb",
   "metadata": {},
   "source": [
    "Now that we have installed the package, we need to load it before we can use it:"
   ]
  },
  {
   "cell_type": "code",
   "execution_count": 3,
   "id": "0e7f776c",
   "metadata": {},
   "outputs": [],
   "source": [
    "using Example"
   ]
  },
  {
   "cell_type": "markdown",
   "id": "2c0bb068",
   "metadata": {},
   "source": [
    "Once we have loaded the package, we can call the functions that it provides without having to reference back to the package that they came from. For example, the `Example` package has a function `hello()`, which prints the input with \"Hello\" added to the start:"
   ]
  },
  {
   "cell_type": "code",
   "execution_count": 4,
   "id": "8db93268",
   "metadata": {},
   "outputs": [
    {
     "data": {
      "text/plain": [
       "\"Hello, is it me you're looking for?\""
      ]
     },
     "execution_count": 4,
     "metadata": {},
     "output_type": "execute_result"
    }
   ],
   "source": [
    "hello(\"is it me you're looking for?\")"
   ]
  },
  {
   "cell_type": "markdown",
   "id": "577352f8",
   "metadata": {},
   "source": [
    "This way of loading packages is similar to R e.g. if you `library(tidyverse)` you can call `ggplot` straight away. It is also similar to the behaviour of Python if you import all objects from a package using the syntax `from numpy import *`, but this is discouraged."
   ]
  },
  {
   "cell_type": "markdown",
   "id": "f5df665a",
   "metadata": {},
   "source": [
    "We can also call functions by explicitly referencing the package that they come from. This makes it easier to track which package each function comes from, and is a useful practice to follow for larger programs which may rely on dozens or hundreds of packages."
   ]
  },
  {
   "cell_type": "code",
   "execution_count": 5,
   "id": "46354fe0",
   "metadata": {},
   "outputs": [
    {
     "data": {
      "text/plain": [
       "\"Hello, is it me you're looking for?\""
      ]
     },
     "execution_count": 5,
     "metadata": {},
     "output_type": "execute_result"
    }
   ],
   "source": [
    "Example.hello(\"is it me you're looking for?\")"
   ]
  },
  {
   "cell_type": "markdown",
   "id": "1cff0041",
   "metadata": {},
   "source": [
    "If there is a large package and we only want a single function from it, we can import specific functions using the `:` operator in our `using` statement"
   ]
  },
  {
   "cell_type": "code",
   "execution_count": 1,
   "id": "395fa266",
   "metadata": {},
   "outputs": [
    {
     "data": {
      "text/plain": [
       "\"Hello, is it me you're looking for?\""
      ]
     },
     "execution_count": 1,
     "metadata": {},
     "output_type": "execute_result"
    }
   ],
   "source": [
    "using Example:hello\n",
    "hello(\"is it me you're looking for?\")"
   ]
  },
  {
   "cell_type": "markdown",
   "id": "e0558698",
   "metadata": {},
   "source": [
    "## The Julia Package Manager\n",
    "When we called `Pkg.add()` earlier, this was an API call to the Julia package manager. If you are installing a lot of packages in one go, it may be easier to open the package manager directly. This is achieved by launching the Julia REPL and typing `]`. You will see the prompt on the lefthand side change name to reflect the environment name (by default `@v1.7` for Julia v1.7), and you can now directly issue commands that you would otherwise need to prepend with `Pkg.`. A few useful commands are:\n",
    "* `help`: returns options for using the package manager\n",
    "* `status`: prints information about the current environment, including a list of the installed packages\n",
    "* `add`: install a new package\n",
    "* `remove`: uninstall a package\n",
    "\n",
    "To exit the package manager and return to the Julia REPL, you need to hit the backspace key (the key may differ depending on your OS)"
   ]
  },
  {
   "cell_type": "markdown",
   "id": "beec484c",
   "metadata": {},
   "source": [
    "## Where Do Packages Get Installed?\n",
    "Julia works with environments in the same way that Python does. If an environment is not specified when you start Julia, it will load the default environment at `~/.julia/environments/v1.7` (note that your exact environment name and path may differ depending on your OS and Julia version). For more information on environments and package management, see the [Pkg.jl docs](https://pkgdocs.julialang.org/v1/) and the [Julia docs on environments](https://docs.julialang.org/en/v1/manual/code-loading/#Environments-1)."
   ]
  },
  {
   "cell_type": "markdown",
   "id": "edc765aa",
   "metadata": {},
   "source": [
    "## Using Python and R Packages\n",
    "Julia has two packages that allow us to access any package available from Python or R from within Julia itself: [PyCall](https://www.juliapackages.com/p/pycall) for Python, and [RCall](https://juliapackages.com/p/rcall) for R. This means that if there isn't a Julia package for a specific step in your program, you can use a Python or R package for this step, and still write the rest of the program in Julia."
   ]
  },
  {
   "cell_type": "code",
   "execution_count": null,
   "id": "0fb1506f",
   "metadata": {},
   "outputs": [],
   "source": []
  }
 ],
 "metadata": {
  "kernelspec": {
   "display_name": "Julia 1.7.3",
   "language": "julia",
   "name": "julia-1.7"
  },
  "language_info": {
   "file_extension": ".jl",
   "mimetype": "application/julia",
   "name": "julia",
   "version": "1.7.3"
  }
 },
 "nbformat": 4,
 "nbformat_minor": 5
}
