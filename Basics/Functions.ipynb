{
 "cells": [
  {
   "cell_type": "markdown",
   "id": "e91af2c9",
   "metadata": {},
   "source": [
    "# Functions\n",
    "Functions allow us to define a series of steps, which can then be run repeatedly by calling a single command"
   ]
  },
  {
   "cell_type": "markdown",
   "id": "ca253a88",
   "metadata": {},
   "source": [
    "## Declaring Functions\n",
    "We can declare a function in three different ways."
   ]
  },
  {
   "cell_type": "markdown",
   "id": "bd0aded0",
   "metadata": {},
   "source": [
    "### Verbose\n",
    "Firstly, we can use the `function()` keyword, which is similar to `def()` in Python. However, Julia functions return the value of the expression that is evaluated last, rather than the value specified by the `return` command in Python"
   ]
  },
  {
   "cell_type": "code",
   "execution_count": 20,
   "id": "3005673c",
   "metadata": {},
   "outputs": [
    {
     "data": {
      "text/plain": [
       "\"Hi Pete\""
      ]
     },
     "execution_count": 20,
     "metadata": {},
     "output_type": "execute_result"
    }
   ],
   "source": [
    "function sayhi(name)\n",
    "    \"Hi $name\"\n",
    "end\n",
    "sayhi(\"Pete\")"
   ]
  },
  {
   "cell_type": "markdown",
   "id": "b1615ff6",
   "metadata": {},
   "source": [
    "### Assignment Form\n",
    "Secondly, we can declare a function by stating the function name and arguments on the lefthand side of the `=` and the function steps on the righthand side. This is termed [assignment form](https://docs.julialang.org/en/v1/manual/functions/)"
   ]
  },
  {
   "cell_type": "code",
   "execution_count": 12,
   "id": "5b86f3c6",
   "metadata": {},
   "outputs": [
    {
     "data": {
      "text/plain": [
       "\"Hello Jean\""
      ]
     },
     "execution_count": 12,
     "metadata": {},
     "output_type": "execute_result"
    }
   ],
   "source": [
    "sayhello(name) = \"Hello $name\"\n",
    "sayhello(\"Jean\")"
   ]
  },
  {
   "cell_type": "markdown",
   "id": "f291dd61",
   "metadata": {},
   "source": [
    "We can evaluate several expressions within a function that is declared using assignment form, by wrapping all of the expressions in brackets and separating them using the `;` operator (to form a [compound expression](https://docs.julialang.org/en/v1/manual/control-flow/#man-compound-expressions)). However, this can soon become difficult to read and edit, so it's best to use this for just a few steps"
   ]
  },
  {
   "cell_type": "code",
   "execution_count": 19,
   "id": "1626e8e1",
   "metadata": {},
   "outputs": [
    {
     "data": {
      "text/plain": [
       "6"
      ]
     },
     "execution_count": 19,
     "metadata": {},
     "output_type": "execute_result"
    }
   ],
   "source": [
    "plus1times2(x) = (x=x+1; x*2)\n",
    "plus1times2(2)"
   ]
  },
  {
   "cell_type": "markdown",
   "id": "080af31a",
   "metadata": {},
   "source": [
    "### Anonymous Functions\n",
    "Thirdly, we can declare a function \"anonymously\" by using the `->` operator. This is especially useful when we want to declare a function temporarily within another statement, for example a broadcast (see below)"
   ]
  },
  {
   "cell_type": "code",
   "execution_count": 40,
   "id": "d4a33831",
   "metadata": {},
   "outputs": [
    {
     "data": {
      "text/plain": [
       "\"Ahoy Quentin\""
      ]
     },
     "execution_count": 40,
     "metadata": {},
     "output_type": "execute_result"
    }
   ],
   "source": [
    "sayahoy = name -> \"Ahoy $name\"\n",
    "sayahoy(\"Quentin\")"
   ]
  },
  {
   "cell_type": "markdown",
   "id": "c8543e3e",
   "metadata": {},
   "source": [
    "## Duck Typing with Functions\n",
    "Duck typing is the principle that \"If it walks like a duck and it quacks like a duck, then it must be a duck\" i.e. if you try to do an operation on an object and that object has everything needed for the operation to succeed, then go ahead and do the operation on the object. Julia uses this principle to flexibly apply functions to multiple input types, as long as a valid operation can occur on the input.\n",
    "For example, if we define a function that squares its input, it returns the expect value for an integer"
   ]
  },
  {
   "cell_type": "code",
   "execution_count": 24,
   "id": "aafa77ae",
   "metadata": {},
   "outputs": [
    {
     "data": {
      "text/plain": [
       "4"
      ]
     },
     "execution_count": 24,
     "metadata": {},
     "output_type": "execute_result"
    }
   ],
   "source": [
    "function square_input(x)\n",
    "    x^2\n",
    "end\n",
    "square_input(2)"
   ]
  },
  {
   "cell_type": "markdown",
   "id": "80f20b9f",
   "metadata": {},
   "source": [
    "We can also pass this function a float, because squaring a float is a valid operation"
   ]
  },
  {
   "cell_type": "code",
   "execution_count": 25,
   "id": "c84d27f8",
   "metadata": {},
   "outputs": [
    {
     "data": {
      "text/plain": [
       "4.0"
      ]
     },
     "execution_count": 25,
     "metadata": {},
     "output_type": "execute_result"
    }
   ],
   "source": [
    "square_input(2.0)"
   ]
  },
  {
   "cell_type": "markdown",
   "id": "c5c3458a",
   "metadata": {},
   "source": [
    "Perhaps unexpectedly, we can also pass this function a string. This is because the `x^2` step can be intepreted to mean `x*x`, and strings can be concatenated together using the `*` operator"
   ]
  },
  {
   "cell_type": "code",
   "execution_count": 26,
   "id": "538a7e03",
   "metadata": {},
   "outputs": [
    {
     "data": {
      "text/plain": [
       "\"badgersbadgers\""
      ]
     },
     "execution_count": 26,
     "metadata": {},
     "output_type": "execute_result"
    }
   ],
   "source": [
    "square_input(\"badgers\")"
   ]
  },
  {
   "cell_type": "markdown",
   "id": "815800ce",
   "metadata": {},
   "source": [
    "However, the capacity for this behaviour is not limitless. If there are more than one potential ways to operate on the input, Julia will throw an error. For example, we can pass this function a 2D matrix, because squaring a 2D matrix is a well-defined operation, namely multiplying the matrix by itself through matrix multiplication"
   ]
  },
  {
   "cell_type": "code",
   "execution_count": 36,
   "id": "adfb3831",
   "metadata": {},
   "outputs": [
    {
     "data": {
      "text/plain": [
       "3×3 Matrix{Int64}:\n",
       " 14  20  26\n",
       " 20  29  38\n",
       " 26  38  50"
      ]
     },
     "execution_count": 36,
     "metadata": {},
     "output_type": "execute_result"
    }
   ],
   "source": [
    "square_input([i + j for j in 0:2, i in 1:3])"
   ]
  },
  {
   "cell_type": "markdown",
   "id": "83ba5cca",
   "metadata": {},
   "source": [
    "However, we cannot pass the function a vector, because there is more than one way to interpret squaring a vector, so it is not a well-defined operation"
   ]
  },
  {
   "cell_type": "code",
   "execution_count": 28,
   "id": "032f3845",
   "metadata": {},
   "outputs": [
    {
     "ename": "LoadError",
     "evalue": "MethodError: no method matching ^(::Vector{Int64}, ::Int64)\n\u001b[0mClosest candidates are:\n\u001b[0m  ^(\u001b[91m::Union{AbstractChar, AbstractString}\u001b[39m, ::Integer) at /Applications/Julia-1.7.app/Contents/Resources/julia/share/julia/base/strings/basic.jl:721\n\u001b[0m  ^(\u001b[91m::Rational\u001b[39m, ::Integer) at /Applications/Julia-1.7.app/Contents/Resources/julia/share/julia/base/rational.jl:475\n\u001b[0m  ^(\u001b[91m::Complex{<:AbstractFloat}\u001b[39m, ::Integer) at /Applications/Julia-1.7.app/Contents/Resources/julia/share/julia/base/complex.jl:839\n\u001b[0m  ...",
     "output_type": "error",
     "traceback": [
      "MethodError: no method matching ^(::Vector{Int64}, ::Int64)\n\u001b[0mClosest candidates are:\n\u001b[0m  ^(\u001b[91m::Union{AbstractChar, AbstractString}\u001b[39m, ::Integer) at /Applications/Julia-1.7.app/Contents/Resources/julia/share/julia/base/strings/basic.jl:721\n\u001b[0m  ^(\u001b[91m::Rational\u001b[39m, ::Integer) at /Applications/Julia-1.7.app/Contents/Resources/julia/share/julia/base/rational.jl:475\n\u001b[0m  ^(\u001b[91m::Complex{<:AbstractFloat}\u001b[39m, ::Integer) at /Applications/Julia-1.7.app/Contents/Resources/julia/share/julia/base/complex.jl:839\n\u001b[0m  ...",
      "",
      "Stacktrace:",
      " [1] literal_pow",
      "   @ ./intfuncs.jl:325 [inlined]",
      " [2] square_input(x::Vector{Int64})",
      "   @ Main ./In[24]:2",
      " [3] top-level scope",
      "   @ In[28]:1",
      " [4] eval",
      "   @ ./boot.jl:373 [inlined]",
      " [5] include_string(mapexpr::typeof(REPL.softscope), mod::Module, code::String, filename::String)",
      "   @ Base ./loading.jl:1196"
     ]
    }
   ],
   "source": [
    "square_input([1,2,3])"
   ]
  },
  {
   "cell_type": "markdown",
   "id": "3c237dce",
   "metadata": {},
   "source": [
    "## Mutating vs Non-Mutating Functions\n",
    "Mutating functions change their inputs in-place, whereas non-mutating functions leave their inputs unchanged (but may return an altered version as output)\n",
    "### Mutating Functions\n",
    "When you apply a mutating function, you don't need to assign the output to a variable, because it has changed the value of the input variable"
   ]
  },
  {
   "cell_type": "code",
   "execution_count": 32,
   "id": "585a4dc3",
   "metadata": {},
   "outputs": [
    {
     "name": "stdout",
     "output_type": "stream",
     "text": [
      "Input before sorting\n",
      "[5, 2, 3]\n",
      "Input after sorting\n",
      "[2, 3, 5]\n"
     ]
    }
   ],
   "source": [
    "x = [5,2,3]\n",
    "println(\"Input before sorting\")\n",
    "println(x)\n",
    "sort!(x)\n",
    "println(\"Input after sorting\")\n",
    "println(x)"
   ]
  },
  {
   "cell_type": "markdown",
   "id": "5cc3806b",
   "metadata": {},
   "source": [
    "However, when you apply a non-mutating function, you do need to assign the output to a variable, because the value of the input variable is left in its original state"
   ]
  },
  {
   "cell_type": "code",
   "execution_count": 33,
   "id": "3c6c0938",
   "metadata": {},
   "outputs": [
    {
     "name": "stdout",
     "output_type": "stream",
     "text": [
      "Input before sorting\n",
      "[5, 2, 3]\n",
      "Input after sorting\n",
      "[5, 2, 3]\n",
      "Output of sorting\n",
      "[2, 3, 5]\n"
     ]
    }
   ],
   "source": [
    "x = [5,2,3]\n",
    "println(\"Input before sorting\")\n",
    "println(x)\n",
    "x_sorted = sort(x)\n",
    "println(\"Input after sorting\")\n",
    "println(x)\n",
    "println(\"Output of sorting\")\n",
    "println(x_sorted)"
   ]
  },
  {
   "cell_type": "markdown",
   "id": "ce9d20ef",
   "metadata": {},
   "source": [
    "## Broadcasting Functions\n",
    "We can apply a function to each element in the input, rather than the input as a whole, by broadcasting the function. We do this by using the `broadcast()` function, which takes the function of interest as its first argument, and the input as the second argument. Notice that this allows us to apply the function defined earlier to a vector, which failed earlier without broadcasting"
   ]
  },
  {
   "cell_type": "code",
   "execution_count": 37,
   "id": "7e65952e",
   "metadata": {},
   "outputs": [
    {
     "data": {
      "text/plain": [
       "3-element Vector{Int64}:\n",
       " 25\n",
       "  4\n",
       "  9"
      ]
     },
     "execution_count": 37,
     "metadata": {},
     "output_type": "execute_result"
    }
   ],
   "source": [
    "broadcast(square_input, [5,2,3])"
   ]
  },
  {
   "cell_type": "markdown",
   "id": "358f83c8",
   "metadata": {},
   "source": [
    "A shorthand for the `broadcast()` function is placing a `.` between the function name and the brackets holding the arguments"
   ]
  },
  {
   "cell_type": "code",
   "execution_count": 38,
   "id": "1b421c3f",
   "metadata": {},
   "outputs": [
    {
     "data": {
      "text/plain": [
       "3-element Vector{Int64}:\n",
       " 25\n",
       "  4\n",
       "  9"
      ]
     },
     "execution_count": 38,
     "metadata": {},
     "output_type": "execute_result"
    }
   ],
   "source": [
    "square_input.([5,2,3])"
   ]
  },
  {
   "cell_type": "code",
   "execution_count": null,
   "id": "9a74d280",
   "metadata": {},
   "outputs": [],
   "source": []
  }
 ],
 "metadata": {
  "kernelspec": {
   "display_name": "Julia 1.7.3",
   "language": "julia",
   "name": "julia-1.7"
  },
  "language_info": {
   "file_extension": ".jl",
   "mimetype": "application/julia",
   "name": "julia",
   "version": "1.7.3"
  }
 },
 "nbformat": 4,
 "nbformat_minor": 5
}
