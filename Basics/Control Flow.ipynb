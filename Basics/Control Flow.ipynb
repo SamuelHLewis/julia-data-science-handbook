{
 "cells": [
  {
   "cell_type": "markdown",
   "id": "008d2f31",
   "metadata": {},
   "source": [
    "# Julia Control Flow"
   ]
  },
  {
   "cell_type": "markdown",
   "id": "6442e53f",
   "metadata": {},
   "source": [
    "## Assertions\n",
    "The `@assert` operator can be used to check if a condition is met, and stop program execution if it isn't"
   ]
  },
  {
   "cell_type": "code",
   "execution_count": 1,
   "id": "c70240a2",
   "metadata": {},
   "outputs": [],
   "source": [
    "a = 5\n",
    "b = 5\n",
    "@assert a==b"
   ]
  },
  {
   "cell_type": "code",
   "execution_count": 2,
   "id": "6bd04e63",
   "metadata": {},
   "outputs": [
    {
     "ename": "LoadError",
     "evalue": "AssertionError: a == c",
     "output_type": "error",
     "traceback": [
      "AssertionError: a == c",
      "",
      "Stacktrace:",
      " [1] top-level scope",
      "   @ In[2]:3",
      " [2] eval",
      "   @ ./boot.jl:373 [inlined]",
      " [3] include_string(mapexpr::typeof(REPL.softscope), mod::Module, code::String, filename::String)",
      "   @ Base ./loading.jl:1196"
     ]
    }
   ],
   "source": [
    "a = 5\n",
    "c = 6\n",
    "@assert a==c"
   ]
  },
  {
   "cell_type": "markdown",
   "id": "f7180da6",
   "metadata": {},
   "source": [
    "## Loops"
   ]
  },
  {
   "cell_type": "markdown",
   "id": "27ad98e1",
   "metadata": {},
   "source": [
    "All loops follow the same syntax\n",
    "```\n",
    "*while/for* *conditional statement*\n",
    "    *the action within the loop\n",
    "    on new indented lines*\n",
    "*end*\n",
    "```"
   ]
  },
  {
   "cell_type": "markdown",
   "id": "977d6369",
   "metadata": {},
   "source": [
    "### While loops"
   ]
  },
  {
   "cell_type": "markdown",
   "id": "318a63b5",
   "metadata": {},
   "source": [
    "`while` loops run until their condition is not met"
   ]
  },
  {
   "cell_type": "code",
   "execution_count": 6,
   "id": "1e2fce77",
   "metadata": {},
   "outputs": [
    {
     "name": "stdout",
     "output_type": "stream",
     "text": [
      "1\n",
      "2\n",
      "3\n",
      "4\n",
      "5\n"
     ]
    }
   ],
   "source": [
    "n = 0\n",
    "while n < 5\n",
    "    n += 1\n",
    "    println(n)\n",
    "end"
   ]
  },
  {
   "cell_type": "markdown",
   "id": "8e0a7f4e",
   "metadata": {},
   "source": [
    "### For loops\n",
    "`for` loops run through an collection, and perform some action on each element "
   ]
  },
  {
   "cell_type": "code",
   "execution_count": 7,
   "id": "f6104377",
   "metadata": {},
   "outputs": [
    {
     "name": "stdout",
     "output_type": "stream",
     "text": [
      "1\n",
      "2\n",
      "3\n",
      "4\n",
      "5\n"
     ]
    }
   ],
   "source": [
    "for i in 1:5\n",
    "    println(i)\n",
    "end"
   ]
  },
  {
   "cell_type": "markdown",
   "id": "dfaeab05",
   "metadata": {},
   "source": [
    "The `in` keyword at the start of the loop can also be replaced with a `=`"
   ]
  },
  {
   "cell_type": "code",
   "execution_count": 1,
   "id": "1c24834e",
   "metadata": {},
   "outputs": [
    {
     "name": "stdout",
     "output_type": "stream",
     "text": [
      "1\n",
      "2\n",
      "3\n",
      "4\n",
      "5\n"
     ]
    }
   ],
   "source": [
    "for i = 1:5\n",
    "    println(i)\n",
    "end"
   ]
  },
  {
   "cell_type": "markdown",
   "id": "6508a3c2",
   "metadata": {},
   "source": [
    "We can nest for loops in the usual way, for example if we want to fill a pre-defined 2D matrix with the sum of its index values"
   ]
  },
  {
   "cell_type": "code",
   "execution_count": 6,
   "id": "706b1d0a",
   "metadata": {},
   "outputs": [
    {
     "data": {
      "text/plain": [
       "4×5 Matrix{Float64}:\n",
       " 2.0  3.0  4.0  5.0  6.0\n",
       " 3.0  4.0  5.0  6.0  7.0\n",
       " 4.0  5.0  6.0  7.0  8.0\n",
       " 5.0  6.0  7.0  8.0  9.0"
      ]
     },
     "execution_count": 6,
     "metadata": {},
     "output_type": "execute_result"
    }
   ],
   "source": [
    "m = 4\n",
    "n = 5\n",
    "addition_table = zeros(m,n)\n",
    "for i in 1:m\n",
    "    for j in 1:n\n",
    "        addition_table[i,j] = i+j\n",
    "    end\n",
    "end\n",
    "addition_table"
   ]
  },
  {
   "cell_type": "markdown",
   "id": "350a2c3a",
   "metadata": {},
   "source": [
    "We can also write this more compactly by specifying both loops on one line"
   ]
  },
  {
   "cell_type": "code",
   "execution_count": 14,
   "id": "8663cb1b",
   "metadata": {},
   "outputs": [
    {
     "name": "stdout",
     "output_type": "stream",
     "text": [
      "  0.000022 seconds (29 allocations: 928 bytes)\n"
     ]
    },
    {
     "data": {
      "text/plain": [
       "4×5 Matrix{Float64}:\n",
       " 2.0  3.0  4.0  5.0  6.0\n",
       " 3.0  4.0  5.0  6.0  7.0\n",
       " 4.0  5.0  6.0  7.0  8.0\n",
       " 5.0  6.0  7.0  8.0  9.0"
      ]
     },
     "execution_count": 14,
     "metadata": {},
     "output_type": "execute_result"
    }
   ],
   "source": [
    "addition_table = zeros(m,n)\n",
    "for i in 1:m, j in 1:n\n",
    "    addition_table[i,j] = i+j\n",
    "end\n",
    "addition_table"
   ]
  },
  {
   "cell_type": "markdown",
   "id": "10e013f2",
   "metadata": {},
   "source": [
    "We can also create the array in-place, removing the need to create a blank array before running the loop"
   ]
  },
  {
   "cell_type": "code",
   "execution_count": 11,
   "id": "65838852",
   "metadata": {},
   "outputs": [
    {
     "data": {
      "text/plain": [
       "4×5 Matrix{Int64}:\n",
       " 2  3  4  5  6\n",
       " 3  4  5  6  7\n",
       " 4  5  6  7  8\n",
       " 5  6  7  8  9"
      ]
     },
     "execution_count": 11,
     "metadata": {},
     "output_type": "execute_result"
    }
   ],
   "source": [
    "addition_table = [i+j for i in 1:m, j in 1:n]\n",
    "addition_table"
   ]
  },
  {
   "cell_type": "markdown",
   "id": "a2087175",
   "metadata": {},
   "source": [
    "## Conditionals\n",
    "Conditionals allow us to execute different actions depending on the state of other parts of our program. They are normally stated in a similar manner to Python"
   ]
  },
  {
   "cell_type": "markdown",
   "id": "cae1d933",
   "metadata": {},
   "source": [
    "### Standard Notation"
   ]
  },
  {
   "cell_type": "code",
   "execution_count": 23,
   "id": "5f5bf2a2",
   "metadata": {},
   "outputs": [
    {
     "name": "stdout",
     "output_type": "stream",
     "text": [
      "4\n"
     ]
    }
   ],
   "source": [
    "a = 2\n",
    "b = 4\n",
    "if a > b\n",
    "    println(a)\n",
    "elseif a < b\n",
    "    println(b)\n",
    "end"
   ]
  },
  {
   "cell_type": "markdown",
   "id": "c4db36fa",
   "metadata": {},
   "source": [
    "They can also be put on one line (but this is inadvisable unless the statement is very short)"
   ]
  },
  {
   "cell_type": "code",
   "execution_count": 24,
   "id": "e9319350",
   "metadata": {},
   "outputs": [
    {
     "name": "stdout",
     "output_type": "stream",
     "text": [
      "4\n"
     ]
    }
   ],
   "source": [
    "if a > b println(a) elseif a < b println(b) end"
   ]
  },
  {
   "cell_type": "markdown",
   "id": "20c6c949",
   "metadata": {},
   "source": [
    "### Ternary Operators"
   ]
  },
  {
   "cell_type": "markdown",
   "id": "045526aa",
   "metadata": {},
   "source": [
    "The same logic can be stated using ternary operators, where the condition is stated on one side of the `?` symbol, and the return values are stated on the other side. The return for the condition being true comes first, then a `:` symbol, then the return for the condition being false. You can think of the `?` as meaning \"is this true?\" and the `:` meaning \"if not, then do this\" "
   ]
  },
  {
   "cell_type": "code",
   "execution_count": 25,
   "id": "68fef6e7",
   "metadata": {},
   "outputs": [
    {
     "data": {
      "text/plain": [
       "4"
      ]
     },
     "execution_count": 25,
     "metadata": {},
     "output_type": "execute_result"
    }
   ],
   "source": [
    "(a > b) ? a : b"
   ]
  },
  {
   "cell_type": "markdown",
   "id": "6498b2db",
   "metadata": {},
   "source": [
    "### Short-Circuit Evaluation\n",
    "Conditionals can also be stated using short-circuit evaluation, which allow the evaluation to finish early (i.e. short circuit) if one of the conditions is true or false, rather than evaluation all of the conditions before returning a value. To short-circuit when any of the conditions are false, use the `&&` operator, which returns `true` only if the conditions on either side of it are true"
   ]
  },
  {
   "cell_type": "code",
   "execution_count": 40,
   "id": "6459b4ac",
   "metadata": {},
   "outputs": [
    {
     "data": {
      "text/plain": [
       "false"
      ]
     },
     "execution_count": 40,
     "metadata": {},
     "output_type": "execute_result"
    }
   ],
   "source": [
    "false && (2>1)"
   ]
  },
  {
   "cell_type": "markdown",
   "id": "2b8bb6ff",
   "metadata": {},
   "source": [
    "To short circuit when any of the conditions are true, use the `||` operator, which returns 'true' if either or both of the conditions on either side of it are true"
   ]
  },
  {
   "cell_type": "code",
   "execution_count": 41,
   "id": "1064e2eb",
   "metadata": {},
   "outputs": [
    {
     "data": {
      "text/plain": [
       "true"
      ]
     },
     "execution_count": 41,
     "metadata": {},
     "output_type": "execute_result"
    }
   ],
   "source": [
    "true || (2<1)"
   ]
  },
  {
   "cell_type": "markdown",
   "id": "bacde086",
   "metadata": {},
   "source": [
    "The conditions are evaluated from left to right. We can see that the condition on the right-hand side is not even considered by inserting a print statement before the condition on the right. In both cases, nothing is printed because the short-circuit kicks in on the lefthand side"
   ]
  },
  {
   "cell_type": "code",
   "execution_count": 42,
   "id": "44070298",
   "metadata": {},
   "outputs": [
    {
     "data": {
      "text/plain": [
       "false"
      ]
     },
     "execution_count": 42,
     "metadata": {},
     "output_type": "execute_result"
    }
   ],
   "source": [
    "false && (println(\"2 is larger than 1\") ; 2>1)"
   ]
  },
  {
   "cell_type": "code",
   "execution_count": 43,
   "id": "1ea23db4",
   "metadata": {},
   "outputs": [
    {
     "data": {
      "text/plain": [
       "true"
      ]
     },
     "execution_count": 43,
     "metadata": {},
     "output_type": "execute_result"
    }
   ],
   "source": [
    "true || (println(\"2 is larger than 1\") ; 2>1)"
   ]
  },
  {
   "cell_type": "markdown",
   "id": "ed67a713",
   "metadata": {},
   "source": [
    "In contrast, in the example below the lefthand condition is false, so evaluation has to move to the righthand side"
   ]
  },
  {
   "cell_type": "code",
   "execution_count": 44,
   "id": "dfc66edf",
   "metadata": {},
   "outputs": [
    {
     "name": "stdout",
     "output_type": "stream",
     "text": [
      "2 is larger than 1\n"
     ]
    },
    {
     "data": {
      "text/plain": [
       "true"
      ]
     },
     "execution_count": 44,
     "metadata": {},
     "output_type": "execute_result"
    }
   ],
   "source": [
    "false || (println(\"2 is larger than 1\") ; 2>1)"
   ]
  },
  {
   "cell_type": "markdown",
   "id": "273c898f",
   "metadata": {},
   "source": [
    "Because the righthand side of the `&&` operator does not get evaluated if the lefthand side is false, it does not have to be a conditional. We can even make it report an error depending on the condition of the lefthand side"
   ]
  },
  {
   "cell_type": "code",
   "execution_count": 47,
   "id": "be1417c8",
   "metadata": {},
   "outputs": [
    {
     "ename": "LoadError",
     "evalue": "x cannot be larger than 1",
     "output_type": "error",
     "traceback": [
      "x cannot be larger than 1",
      "",
      "Stacktrace:",
      " [1] error(s::String)",
      "   @ Base ./error.jl:33",
      " [2] top-level scope",
      "   @ In[47]:3",
      " [3] eval",
      "   @ ./boot.jl:373 [inlined]",
      " [4] include_string(mapexpr::typeof(REPL.softscope), mod::Module, code::String, filename::String)",
      "   @ Base ./loading.jl:1196"
     ]
    }
   ],
   "source": [
    "x = 10\n",
    "\n",
    "(x>1) && error(\"x cannot be larger than 1\")"
   ]
  },
  {
   "cell_type": "code",
   "execution_count": null,
   "id": "2f84cbc0",
   "metadata": {},
   "outputs": [],
   "source": []
  }
 ],
 "metadata": {
  "kernelspec": {
   "display_name": "Julia 1.7.3",
   "language": "julia",
   "name": "julia-1.7"
  },
  "language_info": {
   "file_extension": ".jl",
   "mimetype": "application/julia",
   "name": "julia",
   "version": "1.7.3"
  }
 },
 "nbformat": 4,
 "nbformat_minor": 5
}
