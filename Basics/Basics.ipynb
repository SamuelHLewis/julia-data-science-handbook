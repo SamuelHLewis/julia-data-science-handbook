{
 "cells": [
  {
   "cell_type": "markdown",
   "id": "e58bf6d0",
   "metadata": {},
   "source": [
    "# Julia Basics"
   ]
  },
  {
   "cell_type": "markdown",
   "id": "d6a55e61",
   "metadata": {},
   "source": [
    "## Print\n",
    "To print, use the `println()` function"
   ]
  },
  {
   "cell_type": "code",
   "execution_count": 1,
   "id": "8ae6195c",
   "metadata": {},
   "outputs": [
    {
     "name": "stdout",
     "output_type": "stream",
     "text": [
      "It works!\n"
     ]
    }
   ],
   "source": [
    "println(\"It works!\")"
   ]
  },
  {
   "cell_type": "markdown",
   "id": "5ecd9644",
   "metadata": {},
   "source": [
    "## Assigning Variables\n",
    "We can assign variables using the `=` sign. Julia supports dynamic typing, so it will infer the variable type for us:"
   ]
  },
  {
   "cell_type": "code",
   "execution_count": 3,
   "id": "0f97b284",
   "metadata": {},
   "outputs": [
    {
     "data": {
      "text/plain": [
       "Int64"
      ]
     },
     "execution_count": 3,
     "metadata": {},
     "output_type": "execute_result"
    }
   ],
   "source": [
    "var1 = 13\n",
    "typeof(var1)"
   ]
  },
  {
   "cell_type": "markdown",
   "id": "f57a18e7",
   "metadata": {},
   "source": [
    "Note that Julia does **not** support explicit declaration of variable types (static typing) for global variables"
   ]
  },
  {
   "cell_type": "code",
   "execution_count": 5,
   "id": "af6fde49",
   "metadata": {},
   "outputs": [
    {
     "ename": "LoadError",
     "evalue": "syntax: type declarations on global variables are not yet supported",
     "output_type": "error",
     "traceback": [
      "syntax: type declarations on global variables are not yet supported",
      "",
      "Stacktrace:",
      " [1] top-level scope",
      "   @ In[5]:1",
      " [2] eval",
      "   @ ./boot.jl:373 [inlined]",
      " [3] include_string(mapexpr::typeof(REPL.softscope), mod::Module, code::String, filename::String)",
      "   @ Base ./loading.jl:1196"
     ]
    }
   ],
   "source": [
    "var2::Int64 = 100\n",
    "typeof(var2)"
   ]
  },
  {
   "cell_type": "markdown",
   "id": "c9fc114e",
   "metadata": {},
   "source": [
    "The `convert()` function can be used to convert an existing variable from one type to another"
   ]
  },
  {
   "cell_type": "code",
   "execution_count": 28,
   "id": "fbbc6bd8",
   "metadata": {},
   "outputs": [
    {
     "name": "stdout",
     "output_type": "stream",
     "text": [
      "Before conversion\n",
      "Int64\n",
      "After conversion\n",
      "Float64\n"
     ]
    }
   ],
   "source": [
    "a = 1\n",
    "println(\"Before conversion\")\n",
    "println(typeof(a))\n",
    "a = convert(Float64, a) # note that conversion has to be reassigned to same variable name\n",
    "println(\"After conversion\")\n",
    "println(typeof(a))"
   ]
  },
  {
   "cell_type": "markdown",
   "id": "77bf446e",
   "metadata": {},
   "source": [
    "Julia also supports the use of unicode characters as variable names. This means that we can do something useful and boring like naming a variable β (rather than the plaintext `beta` as we would have to in Python or R), or something useless and fun like naming a variable using emojis!"
   ]
  },
  {
   "cell_type": "code",
   "execution_count": 8,
   "id": "6ed25658",
   "metadata": {},
   "outputs": [
    {
     "name": "stdout",
     "output_type": "stream",
     "text": [
      "Int64\n",
      "String\n"
     ]
    }
   ],
   "source": [
    "β = 1\n",
    "🙀 = \"surprise!\"\n",
    "\n",
    "println(typeof(β))\n",
    "println(typeof(🙀))"
   ]
  },
  {
   "cell_type": "markdown",
   "id": "cf4db411",
   "metadata": {},
   "source": [
    "These unicode characters can be used to express some intuitive statements"
   ]
  },
  {
   "cell_type": "code",
   "execution_count": 10,
   "id": "88c70e51",
   "metadata": {},
   "outputs": [
    {
     "data": {
      "text/plain": [
       "true"
      ]
     },
     "execution_count": 10,
     "metadata": {},
     "output_type": "execute_result"
    }
   ],
   "source": [
    "😃 = 1\n",
    "😭 = -1\n",
    "😑 = 0\n",
    "😃 + 😭 == 😑"
   ]
  },
  {
   "cell_type": "markdown",
   "id": "db2d9d06",
   "metadata": {},
   "source": [
    "## Comments\n",
    "Comments are inserted using the `#` symbol, like in Python and R."
   ]
  },
  {
   "cell_type": "code",
   "execution_count": 11,
   "id": "8b8dace1",
   "metadata": {},
   "outputs": [],
   "source": [
    "# this will produce no output"
   ]
  },
  {
   "cell_type": "markdown",
   "id": "2d3635b7",
   "metadata": {},
   "source": [
    "Multi-line comments can be inserted by using the `#==#` syntax, where `#=` opens the comment and `=#` closes the comment"
   ]
  },
  {
   "cell_type": "code",
   "execution_count": 12,
   "id": "fa3fdb3b",
   "metadata": {},
   "outputs": [],
   "source": [
    "#=\n",
    "This will also\n",
    "produce no output\n",
    "=#"
   ]
  },
  {
   "cell_type": "markdown",
   "id": "4381f23d",
   "metadata": {},
   "source": [
    "## Basic Maths\n",
    "Julia uses the standard notation for basic maths"
   ]
  },
  {
   "cell_type": "code",
   "execution_count": 16,
   "id": "1abc0433",
   "metadata": {},
   "outputs": [
    {
     "data": {
      "text/plain": [
       "15"
      ]
     },
     "execution_count": 16,
     "metadata": {},
     "output_type": "execute_result"
    }
   ],
   "source": [
    "10 + 5"
   ]
  },
  {
   "cell_type": "code",
   "execution_count": 17,
   "id": "63f1e450",
   "metadata": {},
   "outputs": [
    {
     "data": {
      "text/plain": [
       "5"
      ]
     },
     "execution_count": 17,
     "metadata": {},
     "output_type": "execute_result"
    }
   ],
   "source": [
    "10 - 5"
   ]
  },
  {
   "cell_type": "code",
   "execution_count": 18,
   "id": "706eaaa3",
   "metadata": {},
   "outputs": [
    {
     "data": {
      "text/plain": [
       "50"
      ]
     },
     "execution_count": 18,
     "metadata": {},
     "output_type": "execute_result"
    }
   ],
   "source": [
    "10 * 5"
   ]
  },
  {
   "cell_type": "code",
   "execution_count": 19,
   "id": "9aae5ac3",
   "metadata": {},
   "outputs": [
    {
     "data": {
      "text/plain": [
       "2.0"
      ]
     },
     "execution_count": 19,
     "metadata": {},
     "output_type": "execute_result"
    }
   ],
   "source": [
    "10 / 5"
   ]
  },
  {
   "cell_type": "code",
   "execution_count": 23,
   "id": "f7908cbc",
   "metadata": {},
   "outputs": [
    {
     "data": {
      "text/plain": [
       "100000"
      ]
     },
     "execution_count": 23,
     "metadata": {},
     "output_type": "execute_result"
    }
   ],
   "source": [
    "10 ^ 5 # note that caret is used for powers, rather than ** in Python"
   ]
  },
  {
   "cell_type": "code",
   "execution_count": 24,
   "id": "a8ed42e1",
   "metadata": {},
   "outputs": [
    {
     "data": {
      "text/plain": [
       "2"
      ]
     },
     "execution_count": 24,
     "metadata": {},
     "output_type": "execute_result"
    }
   ],
   "source": [
    "10 % 4"
   ]
  }
 ],
 "metadata": {
  "kernelspec": {
   "display_name": "Julia 1.7.3",
   "language": "julia",
   "name": "julia-1.7"
  },
  "language_info": {
   "file_extension": ".jl",
   "mimetype": "application/julia",
   "name": "julia",
   "version": "1.7.3"
  }
 },
 "nbformat": 4,
 "nbformat_minor": 5
}
