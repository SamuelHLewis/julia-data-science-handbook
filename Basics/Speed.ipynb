{
 "cells": [
  {
   "cell_type": "markdown",
   "id": "e753bb2a",
   "metadata": {},
   "source": [
    "# Speed\n",
    "One of the biggest advantages of Julia is its speedy runtime, which doesn't come at the cost of a steep learning curve for the language (in contrast to C). We can call different languages within Julia and use the `BenchmarkTools` package to generate accurate estimates of the runtime for each of them."
   ]
  },
  {
   "cell_type": "code",
   "execution_count": 2,
   "id": "2b34cdc4",
   "metadata": {},
   "outputs": [],
   "source": [
    "using BenchmarkTools\n",
    "using Libdl"
   ]
  },
  {
   "cell_type": "markdown",
   "id": "e1b3fd05",
   "metadata": {},
   "source": [
    "Below, we will compare 8 implementations of a simple function to sum the values in a vector:\n",
    "* C hand-written\n",
    "* C hand-written (with SIMD)\n",
    "* Python built-in\n",
    "* Python numpy\n",
    "* Python hand-written\n",
    "* Julia built-in\n",
    "* Julia hand-written\n",
    "* Julia hand-written (with SIMD)\n",
    "\n",
    "SIMD = Single Instruction, Multiple Data (a protocol for efficiently carrying out the same operation across a collection of data points)\n",
    "\n",
    "The test data will be a vector of 10 million points, randomly sampled between 0 and 1. The expected sum is 5e-06."
   ]
  },
  {
   "cell_type": "code",
   "execution_count": 3,
   "id": "5231e736",
   "metadata": {},
   "outputs": [
    {
     "data": {
      "text/plain": [
       "10000000-element Vector{Float64}:\n",
       " 0.5935398849264476\n",
       " 0.23994742230378574\n",
       " 0.08119081157407271\n",
       " 0.6136316802900761\n",
       " 0.7297958336412042\n",
       " 0.636462438511688\n",
       " 0.9667670690076329\n",
       " 0.11866606250201062\n",
       " 0.9350907377571541\n",
       " 0.29406742624604565\n",
       " 0.550551935542502\n",
       " 0.4182250028457005\n",
       " 0.772469868246459\n",
       " ⋮\n",
       " 0.23565738236694933\n",
       " 0.030347460542345828\n",
       " 0.07267701622156353\n",
       " 0.22729196760881665\n",
       " 0.058697647900362804\n",
       " 0.11304761384773554\n",
       " 0.10758199517908162\n",
       " 0.9984043059213005\n",
       " 0.3237884470692286\n",
       " 0.6975879478227242\n",
       " 0.9625706804902854\n",
       " 0.6315852011793057"
      ]
     },
     "execution_count": 3,
     "metadata": {},
     "output_type": "execute_result"
    }
   ],
   "source": [
    "a = rand(10^7)"
   ]
  },
  {
   "cell_type": "markdown",
   "id": "ebbfb98e",
   "metadata": {},
   "source": [
    "For each method, we will write the lowest speed obtained to a dict"
   ]
  },
  {
   "cell_type": "code",
   "execution_count": 5,
   "id": "33f6bda7",
   "metadata": {},
   "outputs": [
    {
     "data": {
      "text/plain": [
       "Dict{Any, Any}()"
      ]
     },
     "execution_count": 5,
     "metadata": {},
     "output_type": "execute_result"
    }
   ],
   "source": [
    "performance = Dict()"
   ]
  },
  {
   "cell_type": "markdown",
   "id": "e840e11a",
   "metadata": {},
   "source": [
    "## C\n",
    "### C hand-written\n",
    "Don't ask me what this C code actually does, but according to the JupyterHub Introduction to Julia course it is correct (see [this](https://github.com/JuliaAcademy/Introduction-to-Julia/blob/main/9%20-%20Julia%20is%20fast.ipynb) notebook)"
   ]
  },
  {
   "cell_type": "code",
   "execution_count": 4,
   "id": "32b441ec",
   "metadata": {},
   "outputs": [
    {
     "data": {
      "text/plain": [
       "c_sum (generic function with 1 method)"
      ]
     },
     "execution_count": 4,
     "metadata": {},
     "output_type": "execute_result"
    }
   ],
   "source": [
    "using Libdl\n",
    "C_code = \"\"\"\n",
    "#include <stddef.h>\n",
    "double c_sum(size_t n, double *X) {\n",
    "    double s = 0.0;\n",
    "    for (size_t i = 0; i < n; ++i) {\n",
    "        s += X[i];\n",
    "    }\n",
    "    return s;\n",
    "}\n",
    "\"\"\"\n",
    "\n",
    "const Clib = tempname()   # make a temporary file\n",
    "\n",
    "\n",
    "# compile to a shared library by piping C_code to gcc\n",
    "# (works only if you have gcc installed):\n",
    "\n",
    "open(`gcc -fPIC -O3 -msse3 -xc -shared -o $(Clib * \".\" * Libdl.dlext) -`, \"w\") do f\n",
    "    print(f, C_code) \n",
    "end\n",
    "\n",
    "# define a Julia function that calls the C function:\n",
    "c_sum(X::Array{Float64}) = ccall((\"c_sum\", Clib), Float64, (Csize_t, Ptr{Float64}), length(X), X)"
   ]
  },
  {
   "cell_type": "code",
   "execution_count": 9,
   "id": "baae9fd9",
   "metadata": {},
   "outputs": [
    {
     "data": {
      "text/plain": [
       "9.304666"
      ]
     },
     "execution_count": 9,
     "metadata": {},
     "output_type": "execute_result"
    }
   ],
   "source": [
    "c_bench = @benchmark c_sum($a)\n",
    "performance[\"C hand-written\"] = minimum(c_bench.times) / 1e6 # in milliseconds"
   ]
  },
  {
   "cell_type": "markdown",
   "id": "a240a2e0",
   "metadata": {},
   "source": [
    "### C hand-written (with SIMD)\n",
    "We use the same code as written above, but add the `-ffast-math` flag to specify the SIMD implementation"
   ]
  },
  {
   "cell_type": "code",
   "execution_count": 10,
   "id": "bc10005e",
   "metadata": {},
   "outputs": [
    {
     "data": {
      "text/plain": [
       "c_sum_fastmath (generic function with 1 method)"
      ]
     },
     "execution_count": 10,
     "metadata": {},
     "output_type": "execute_result"
    }
   ],
   "source": [
    "const Clib_fastmath = tempname()   # make a temporary file\n",
    "\n",
    "# The same as above but with a -ffast-math flag added\n",
    "open(`gcc -fPIC -O3 -msse3 -xc -shared -ffast-math -o $(Clib_fastmath * \".\" * Libdl.dlext) -`, \"w\") do f\n",
    "    print(f, C_code) \n",
    "end\n",
    "\n",
    "# define a Julia function that calls the C function:\n",
    "c_sum_fastmath(X::Array{Float64}) = ccall((\"c_sum\", Clib_fastmath), Float64, (Csize_t, Ptr{Float64}), length(X), X)"
   ]
  },
  {
   "cell_type": "code",
   "execution_count": 11,
   "id": "2ed8b4e5",
   "metadata": {},
   "outputs": [
    {
     "data": {
      "text/plain": [
       "1.778125"
      ]
     },
     "execution_count": 11,
     "metadata": {},
     "output_type": "execute_result"
    }
   ],
   "source": [
    "c_simd_bench = @benchmark c_sum_fastmath($a)\n",
    "performance[\"C hand-written SIMD\"] = minimum(c_simd_bench.times) / 1e6"
   ]
  },
  {
   "cell_type": "markdown",
   "id": "97bfb6da",
   "metadata": {},
   "source": [
    "## Python\n",
    "We can use the `PyCall` package to call Python commands within Julia"
   ]
  },
  {
   "cell_type": "code",
   "execution_count": 14,
   "id": "d25e1d62",
   "metadata": {},
   "outputs": [],
   "source": [
    "using PyCall"
   ]
  },
  {
   "cell_type": "markdown",
   "id": "64998202",
   "metadata": {},
   "source": [
    "### Python built-in"
   ]
  },
  {
   "cell_type": "code",
   "execution_count": 16,
   "id": "b8b4fdd7",
   "metadata": {},
   "outputs": [
    {
     "data": {
      "text/plain": [
       "984.474125"
      ]
     },
     "execution_count": 16,
     "metadata": {},
     "output_type": "execute_result"
    }
   ],
   "source": [
    "pysum = pybuiltin(\"sum\")\n",
    "python_built_in_bench = @benchmark $pysum($a)\n",
    "performance[\"Python built-in\"] = minimum(python_built_in_bench.times) / 1e6"
   ]
  },
  {
   "cell_type": "markdown",
   "id": "9c79aaf3",
   "metadata": {},
   "source": [
    "### Python numpy\n",
    "`numpy` should use SIMD if it is available on your hardware, so we are giving Python the best shot at performing well"
   ]
  },
  {
   "cell_type": "code",
   "execution_count": 17,
   "id": "c0aef9f8",
   "metadata": {},
   "outputs": [
    {
     "name": "stderr",
     "output_type": "stream",
     "text": [
      "\u001b[32m\u001b[1m   Resolving\u001b[22m\u001b[39m package versions...\n",
      "\u001b[32m\u001b[1m    Updating\u001b[22m\u001b[39m `~/.julia/environments/v1.7/Project.toml`\n",
      " \u001b[90m [8f4d0f93] \u001b[39m\u001b[92m+ Conda v1.7.0\u001b[39m\n",
      "\u001b[32m\u001b[1m  No Changes\u001b[22m\u001b[39m to `~/.julia/environments/v1.7/Manifest.toml`\n",
      "┌ Info: Running `conda install -y numpy` in root environment\n",
      "└ @ Conda /Users/kmlm215/.julia/packages/Conda/x2UxR/src/Conda.jl:127\n"
     ]
    },
    {
     "name": "stdout",
     "output_type": "stream",
     "text": [
      "Collecting package metadata (current_repodata.json): ...working... done\n",
      "Solving environment: ...working... done\n",
      "\n",
      "# All requested packages already installed.\n",
      "\n"
     ]
    }
   ],
   "source": [
    "using Conda\n",
    "Conda.add(\"numpy\")"
   ]
  },
  {
   "cell_type": "code",
   "execution_count": 19,
   "id": "cc3158e3",
   "metadata": {},
   "outputs": [
    {
     "data": {
      "text/plain": [
       "1.887292"
      ]
     },
     "execution_count": 19,
     "metadata": {},
     "output_type": "execute_result"
    }
   ],
   "source": [
    "numpy_sum = pyimport(\"numpy\")[\"sum\"]\n",
    "python_numpy_bench = @benchmark $numpy_sum($a)\n",
    "performance[\"Python numpy\"] = minimum(python_numpy_bench.times) / 1e6"
   ]
  },
  {
   "cell_type": "markdown",
   "id": "ea4daa72",
   "metadata": {},
   "source": [
    "### Python hand-written"
   ]
  },
  {
   "cell_type": "code",
   "execution_count": 20,
   "id": "785ccd45",
   "metadata": {},
   "outputs": [
    {
     "data": {
      "text/plain": [
       "1126.752292"
      ]
     },
     "execution_count": 20,
     "metadata": {},
     "output_type": "execute_result"
    }
   ],
   "source": [
    "py\"\"\"\n",
    "def py_sum(A):\n",
    "    s = 0.0\n",
    "    for a in A:\n",
    "        s += a\n",
    "    return s\n",
    "\"\"\"\n",
    "\n",
    "sum_py = py\"py_sum\"\n",
    "python_hand_written_bench = @benchmark $sum_py($a)\n",
    "performance[\"Python hand-written\"] = minimum(python_hand_written_bench.times) / 1e6"
   ]
  },
  {
   "cell_type": "markdown",
   "id": "a04f9e08",
   "metadata": {},
   "source": [
    "## Julia"
   ]
  },
  {
   "cell_type": "markdown",
   "id": "58befe70",
   "metadata": {},
   "source": [
    "### Julia built-in"
   ]
  },
  {
   "cell_type": "code",
   "execution_count": 23,
   "id": "612bc121",
   "metadata": {},
   "outputs": [
    {
     "data": {
      "text/plain": [
       "1.829333"
      ]
     },
     "execution_count": 23,
     "metadata": {},
     "output_type": "execute_result"
    }
   ],
   "source": [
    "julia_built_in_bench = @benchmark sum($a)\n",
    "performance[\"Julia built-in\"] = minimum(julia_built_in_bench.times) / 1e6"
   ]
  },
  {
   "cell_type": "markdown",
   "id": "324c3cd1",
   "metadata": {},
   "source": [
    "### Julia hand-written"
   ]
  },
  {
   "cell_type": "code",
   "execution_count": 24,
   "id": "6b0af268",
   "metadata": {},
   "outputs": [
    {
     "data": {
      "text/plain": [
       "9.312375"
      ]
     },
     "execution_count": 24,
     "metadata": {},
     "output_type": "execute_result"
    }
   ],
   "source": [
    "function juliasum(A)   \n",
    "    s = 0.0\n",
    "    for a in A\n",
    "        s += a\n",
    "    end\n",
    "    s\n",
    "end\n",
    "julia_hand_written_bench = @benchmark $juliasum($a)\n",
    "performance[\"Julia hand-written\"] = minimum(julia_hand_written_bench.times) / 1e6"
   ]
  },
  {
   "cell_type": "markdown",
   "id": "75db2c36",
   "metadata": {},
   "source": [
    "### Julia hand-written with SIMD"
   ]
  },
  {
   "cell_type": "code",
   "execution_count": 25,
   "id": "a9b935ee",
   "metadata": {},
   "outputs": [
    {
     "data": {
      "text/plain": [
       "2.352334"
      ]
     },
     "execution_count": 25,
     "metadata": {},
     "output_type": "execute_result"
    }
   ],
   "source": [
    "function juliasum_simd(A)   \n",
    "    s = 0.0\n",
    "    @simd for a in A\n",
    "        s += a\n",
    "    end\n",
    "    s\n",
    "end\n",
    "julia_hand_written_simd_bench = @benchmark $juliasum_simd($a)\n",
    "performance[\"Julia hand-written SIMD\"] = minimum(julia_hand_written_simd_bench.times) / 1e6"
   ]
  },
  {
   "cell_type": "markdown",
   "id": "7de54c7e",
   "metadata": {},
   "source": [
    "## Results\n",
    "If we sort the runtimes in ascending order, we see that:\n",
    "\n",
    "1. The Julia built-in function is as quick as the C hand-written function with SIMD\n",
    "2. The Julia hand-written function is as quick as the C hand-written function\n",
    "3. The Julia hand-written function with SIMD is nearly as fast as numpy\n",
    "4. The Python built-in and hand-written functions are 3-4 orders of magnitude slower than Julia"
   ]
  },
  {
   "cell_type": "code",
   "execution_count": 26,
   "id": "b139119d",
   "metadata": {},
   "outputs": [
    {
     "name": "stdout",
     "output_type": "stream",
     "text": [
      "C hand-written SIMD.........1.8\n",
      "Julia built-in..............1.8\n",
      "Python numpy................1.9\n",
      "Julia hand-written SIMD.....2.4\n",
      "C hand-written..............9.3\n",
      "Julia hand-written..........9.3\n",
      "Python built-in...........984.5\n",
      "Python hand-written......1126.8\n"
     ]
    }
   ],
   "source": [
    "for (key, value) in sort(collect(performance), by=last)\n",
    "    println(rpad(key, 25, \".\"), lpad(round(value; digits=1), 6, \".\"))\n",
    "end"
   ]
  },
  {
   "cell_type": "markdown",
   "id": "af9bfe2c",
   "metadata": {},
   "source": [
    "## Conclusions\n",
    "Julia allows us to write code that reads like Python and runs like C. Python has additional packages that are optimised for speed e.g. numpy, but these are much harder to tweak for specific purposes (35% of the numpy repo is C). In Julia, we can tweak existing code for our purpose, or write our own code from scratch, and be confident that it will still run quickly. "
   ]
  }
 ],
 "metadata": {
  "kernelspec": {
   "display_name": "Julia 1.7.3",
   "language": "julia",
   "name": "julia-1.7"
  },
  "language_info": {
   "file_extension": ".jl",
   "mimetype": "application/julia",
   "name": "julia",
   "version": "1.7.3"
  }
 },
 "nbformat": 4,
 "nbformat_minor": 5
}
