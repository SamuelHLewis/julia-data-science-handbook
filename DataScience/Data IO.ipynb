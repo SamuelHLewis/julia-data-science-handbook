{
 "cells": [
  {
   "cell_type": "code",
   "execution_count": 32,
   "id": "e2ccb79e",
   "metadata": {},
   "outputs": [],
   "source": [
    "using DelimitedFiles\n",
    "using CSV\n",
    "using XLSX\n",
    "using DataFrames"
   ]
  },
  {
   "cell_type": "markdown",
   "id": "9fc1eb91",
   "metadata": {},
   "source": [
    "# Downloading Data\n",
    "Julia provides the `download()` function to download data from the web. Note that this uses `wget`, `curl` or `fetch` (whatever you have installed already), so you need one of these to use it. By default it downloads the file into the working directory, which in the case of this notebook is the same dir as the notebook:"
   ]
  },
  {
   "cell_type": "code",
   "execution_count": 2,
   "id": "b9e92d31",
   "metadata": {},
   "outputs": [
    {
     "data": {
      "text/plain": [
       "\"programming_languages.csv\""
      ]
     },
     "execution_count": 2,
     "metadata": {},
     "output_type": "execute_result"
    }
   ],
   "source": [
    "download(\"https://raw.githubusercontent.com/nassarhuda/easy_data/master/programming_languages.csv\",\n",
    "    \"programming_languages.csv\")"
   ]
  },
  {
   "cell_type": "markdown",
   "id": "bc33869b",
   "metadata": {},
   "source": [
    "Note that we can call terminal commands from within Julia using the `;` prefix"
   ]
  },
  {
   "cell_type": "code",
   "execution_count": 4,
   "id": "f1dd4187",
   "metadata": {},
   "outputs": [
    {
     "name": "stdout",
     "output_type": "stream",
     "text": [
      "year,language\n",
      "1951,Regional Assembly Language\n",
      "1952,Autocode\n",
      "1954,IPL\n",
      "1955,FLOW-MATIC\n",
      "1957,FORTRAN\n",
      "1957,COMTRAN\n",
      "1958,LISP\n",
      "1958,ALGOL 58\n",
      "1959,FACT\n"
     ]
    }
   ],
   "source": [
    ";head programming_languages.csv"
   ]
  },
  {
   "cell_type": "markdown",
   "id": "7316d79c",
   "metadata": {},
   "source": [
    "# Reading & Writing Data"
   ]
  },
  {
   "cell_type": "markdown",
   "id": "17c19f59",
   "metadata": {},
   "source": [
    "## Delimited Files\n",
    "We can read and write any delimited text file using the `DelimitedFiles` package, which is part of the base Julia install. This provides the `readdlm()` function to parse delimited files. There are three important things to note about this function:\n",
    "1. The file name must be wrapped in quotes (because the method expects a string), but the delimiter must be wrapped in apostrophes (because the method expects a char)\n",
    "2. It returns 2 objects, the data and the header separately\n",
    "3. It has a lot of flexibility which allows it to work with any kind of delimited file, but this comes at a cost of slowness for CSVs compared to the dedicated `CSV` package (see below)"
   ]
  },
  {
   "cell_type": "code",
   "execution_count": 18,
   "id": "424fa015",
   "metadata": {},
   "outputs": [
    {
     "data": {
      "text/plain": [
       "(Any[1951 \"Regional Assembly Language\"; 1952 \"Autocode\"; … ; 2012 \"Julia\"; 2014 \"Swift\"], AbstractString[\"year\" \"language\"])"
      ]
     },
     "execution_count": 18,
     "metadata": {},
     "output_type": "execute_result"
    }
   ],
   "source": [
    "data, header = readdlm(\"programming_languages.csv\", ',', header=true)"
   ]
  },
  {
   "cell_type": "code",
   "execution_count": 20,
   "id": "1436306e",
   "metadata": {},
   "outputs": [
    {
     "data": {
      "text/plain": [
       "73×2 Matrix{Any}:\n",
       " 1951  \"Regional Assembly Language\"\n",
       " 1952  \"Autocode\"\n",
       " 1954  \"IPL\"\n",
       " 1955  \"FLOW-MATIC\"\n",
       " 1957  \"FORTRAN\"\n",
       " 1957  \"COMTRAN\"\n",
       " 1958  \"LISP\"\n",
       " 1958  \"ALGOL 58\"\n",
       " 1959  \"FACT\"\n",
       " 1959  \"COBOL\"\n",
       " 1959  \"RPG\"\n",
       " 1962  \"APL\"\n",
       " 1962  \"Simula\"\n",
       "    ⋮  \n",
       " 2003  \"Scala\"\n",
       " 2005  \"F#\"\n",
       " 2006  \"PowerShell\"\n",
       " 2007  \"Clojure\"\n",
       " 2009  \"Go\"\n",
       " 2010  \"Rust\"\n",
       " 2011  \"Dart\"\n",
       " 2011  \"Kotlin\"\n",
       " 2011  \"Red\"\n",
       " 2011  \"Elixir\"\n",
       " 2012  \"Julia\"\n",
       " 2014  \"Swift\""
      ]
     },
     "execution_count": 20,
     "metadata": {},
     "output_type": "execute_result"
    }
   ],
   "source": [
    "data"
   ]
  },
  {
   "cell_type": "markdown",
   "id": "fa314ace",
   "metadata": {},
   "source": [
    "Once we have some data, we can use the `writedlm()` function to write it to file. Again, there are three important things to note about this function:\n",
    "1. The filename must be in quotes, and the delimiter must be in apostrophes\n",
    "2. For big files it is much slower than the `CSV` package\n",
    "3. There is no option to specify a header within an argument call, so you must combine the header with the data within the argument that specifies the data to write e.g. `[header ; data]`"
   ]
  },
  {
   "cell_type": "code",
   "execution_count": 21,
   "id": "289a7bd0",
   "metadata": {},
   "outputs": [],
   "source": [
    "writedlm(\"proglang.csv\", [header ; data], ',')"
   ]
  },
  {
   "cell_type": "code",
   "execution_count": 22,
   "id": "f1f8b399",
   "metadata": {},
   "outputs": [
    {
     "name": "stdout",
     "output_type": "stream",
     "text": [
      "year,language\n",
      "1951,Regional Assembly Language\n",
      "1952,Autocode\n",
      "1954,IPL\n",
      "1955,FLOW-MATIC\n",
      "1957,FORTRAN\n",
      "1957,COMTRAN\n",
      "1958,LISP\n",
      "1958,ALGOL 58\n",
      "1959,FACT\n"
     ]
    }
   ],
   "source": [
    ";head proglang.csv"
   ]
  },
  {
   "cell_type": "markdown",
   "id": "5e5aee6d",
   "metadata": {},
   "source": [
    "## CSV Files\n",
    "CSV files are really common, so Julia has the dedicated `CSV` package which is optimised for CSVs (but doesn't work with other file types). Its `read()` function takes two arguments, first the filename and second the sink. The sink is an object that the data will be returned in, and is usually a `DataFrame`, but in certain cases other objects are more useful e.g.reading directly into an SQLite database instance."
   ]
  },
  {
   "cell_type": "code",
   "execution_count": 28,
   "id": "d7ce9e21",
   "metadata": {},
   "outputs": [
    {
     "data": {
      "text/html": [
       "<div class=\"data-frame\"><p>73 rows × 2 columns</p><table class=\"data-frame\"><thead><tr><th></th><th>year</th><th>language</th></tr><tr><th></th><th title=\"Int64\">Int64</th><th title=\"String31\">String31</th></tr></thead><tbody><tr><th>1</th><td>1951</td><td>Regional Assembly Language</td></tr><tr><th>2</th><td>1952</td><td>Autocode</td></tr><tr><th>3</th><td>1954</td><td>IPL</td></tr><tr><th>4</th><td>1955</td><td>FLOW-MATIC</td></tr><tr><th>5</th><td>1957</td><td>FORTRAN</td></tr><tr><th>6</th><td>1957</td><td>COMTRAN</td></tr><tr><th>7</th><td>1958</td><td>LISP</td></tr><tr><th>8</th><td>1958</td><td>ALGOL 58</td></tr><tr><th>9</th><td>1959</td><td>FACT</td></tr><tr><th>10</th><td>1959</td><td>COBOL</td></tr><tr><th>11</th><td>1959</td><td>RPG</td></tr><tr><th>12</th><td>1962</td><td>APL</td></tr><tr><th>13</th><td>1962</td><td>Simula</td></tr><tr><th>14</th><td>1962</td><td>SNOBOL</td></tr><tr><th>15</th><td>1963</td><td>CPL</td></tr><tr><th>16</th><td>1964</td><td>Speakeasy</td></tr><tr><th>17</th><td>1964</td><td>BASIC</td></tr><tr><th>18</th><td>1964</td><td>PL/I</td></tr><tr><th>19</th><td>1966</td><td>JOSS</td></tr><tr><th>20</th><td>1967</td><td>BCPL</td></tr><tr><th>21</th><td>1968</td><td>Logo</td></tr><tr><th>22</th><td>1969</td><td>B</td></tr><tr><th>23</th><td>1970</td><td>Pascal</td></tr><tr><th>24</th><td>1970</td><td>Forth</td></tr><tr><th>25</th><td>1972</td><td>C</td></tr><tr><th>26</th><td>1972</td><td>Smalltalk</td></tr><tr><th>27</th><td>1972</td><td>Prolog</td></tr><tr><th>28</th><td>1973</td><td>ML</td></tr><tr><th>29</th><td>1975</td><td>Scheme</td></tr><tr><th>30</th><td>1978</td><td>SQL </td></tr><tr><th>&vellip;</th><td>&vellip;</td><td>&vellip;</td></tr></tbody></table></div>"
      ],
      "text/latex": [
       "\\begin{tabular}{r|cc}\n",
       "\t& year & language\\\\\n",
       "\t\\hline\n",
       "\t& Int64 & String31\\\\\n",
       "\t\\hline\n",
       "\t1 & 1951 & Regional Assembly Language \\\\\n",
       "\t2 & 1952 & Autocode \\\\\n",
       "\t3 & 1954 & IPL \\\\\n",
       "\t4 & 1955 & FLOW-MATIC \\\\\n",
       "\t5 & 1957 & FORTRAN \\\\\n",
       "\t6 & 1957 & COMTRAN \\\\\n",
       "\t7 & 1958 & LISP \\\\\n",
       "\t8 & 1958 & ALGOL 58 \\\\\n",
       "\t9 & 1959 & FACT \\\\\n",
       "\t10 & 1959 & COBOL \\\\\n",
       "\t11 & 1959 & RPG \\\\\n",
       "\t12 & 1962 & APL \\\\\n",
       "\t13 & 1962 & Simula \\\\\n",
       "\t14 & 1962 & SNOBOL \\\\\n",
       "\t15 & 1963 & CPL \\\\\n",
       "\t16 & 1964 & Speakeasy \\\\\n",
       "\t17 & 1964 & BASIC \\\\\n",
       "\t18 & 1964 & PL/I \\\\\n",
       "\t19 & 1966 & JOSS \\\\\n",
       "\t20 & 1967 & BCPL \\\\\n",
       "\t21 & 1968 & Logo \\\\\n",
       "\t22 & 1969 & B \\\\\n",
       "\t23 & 1970 & Pascal \\\\\n",
       "\t24 & 1970 & Forth \\\\\n",
       "\t25 & 1972 & C \\\\\n",
       "\t26 & 1972 & Smalltalk \\\\\n",
       "\t27 & 1972 & Prolog \\\\\n",
       "\t28 & 1973 & ML \\\\\n",
       "\t29 & 1975 & Scheme \\\\\n",
       "\t30 & 1978 & SQL  \\\\\n",
       "\t$\\dots$ & $\\dots$ & $\\dots$ \\\\\n",
       "\\end{tabular}\n"
      ],
      "text/plain": [
       "\u001b[1m73×2 DataFrame\u001b[0m\n",
       "\u001b[1m Row \u001b[0m│\u001b[1m year  \u001b[0m\u001b[1m language                   \u001b[0m\n",
       "\u001b[1m     \u001b[0m│\u001b[90m Int64 \u001b[0m\u001b[90m String31                   \u001b[0m\n",
       "─────┼───────────────────────────────────\n",
       "   1 │  1951  Regional Assembly Language\n",
       "   2 │  1952  Autocode\n",
       "   3 │  1954  IPL\n",
       "   4 │  1955  FLOW-MATIC\n",
       "   5 │  1957  FORTRAN\n",
       "   6 │  1957  COMTRAN\n",
       "   7 │  1958  LISP\n",
       "   8 │  1958  ALGOL 58\n",
       "   9 │  1959  FACT\n",
       "  10 │  1959  COBOL\n",
       "  11 │  1959  RPG\n",
       "  ⋮  │   ⋮                ⋮\n",
       "  64 │  2006  PowerShell\n",
       "  65 │  2007  Clojure\n",
       "  66 │  2009  Go\n",
       "  67 │  2010  Rust\n",
       "  68 │  2011  Dart\n",
       "  69 │  2011  Kotlin\n",
       "  70 │  2011  Red\n",
       "  71 │  2011  Elixir\n",
       "  72 │  2012  Julia\n",
       "  73 │  2014  Swift\n",
       "\u001b[36m                          52 rows omitted\u001b[0m"
      ]
     },
     "execution_count": 28,
     "metadata": {},
     "output_type": "execute_result"
    }
   ],
   "source": [
    "proglang = CSV.read(\"programming_languages.csv\", DataFrame)"
   ]
  },
  {
   "cell_type": "markdown",
   "id": "bb1696e9",
   "metadata": {},
   "source": [
    "We can write data with the `write()` function:"
   ]
  },
  {
   "cell_type": "code",
   "execution_count": 29,
   "id": "18303188",
   "metadata": {},
   "outputs": [
    {
     "data": {
      "text/plain": [
       "\"proglang2.csv\""
      ]
     },
     "execution_count": 29,
     "metadata": {},
     "output_type": "execute_result"
    }
   ],
   "source": [
    "CSV.write(\"proglang2.csv\", proglang)"
   ]
  },
  {
   "cell_type": "code",
   "execution_count": 30,
   "id": "e275c019",
   "metadata": {},
   "outputs": [
    {
     "name": "stdout",
     "output_type": "stream",
     "text": [
      "year,language\n",
      "1951,Regional Assembly Language\n",
      "1952,Autocode\n",
      "1954,IPL\n",
      "1955,FLOW-MATIC\n",
      "1957,FORTRAN\n",
      "1957,COMTRAN\n",
      "1958,LISP\n",
      "1958,ALGOL 58\n",
      "1959,FACT\n"
     ]
    }
   ],
   "source": [
    ";head proglang2.csv"
   ]
  },
  {
   "cell_type": "markdown",
   "id": "950426a3",
   "metadata": {},
   "source": [
    "## XLSX Files\n",
    "XLSX files can be more complicated to parse than simple text files, so the `XLSX` package provides dedicated functions for reading and writing them. The most generic function for reading XLSX files is `readxlsx()`, which returns a `XLSX.XLSXFile` object containing all sheets. Each sheet is a `XLSX.XLSXWorksheet` object, but if we know the sheet name and column/row span, we can extract the values as a Julia array::"
   ]
  },
  {
   "cell_type": "code",
   "execution_count": 54,
   "id": "3c8e0f1c",
   "metadata": {},
   "outputs": [
    {
     "name": "stdout",
     "output_type": "stream",
     "text": [
      "The initial return is a XLSX.XLSXFile object\n",
      "This can be indexed to find the first sheet, which is a XLSX.Worksheet object\n",
      "The values in the first sheet can be unpacked into an array:\n",
      "Any[\"year\" \"language\"; 1951 \"Regional Assembly Language\"; 1952 \"Autocode\"; 1954 \"IPL\"; 1955 \"FLOW-MATIC\"; 1957 \"FORTRAN\"; 1957 \"COMTRAN\"; 1958 \"LISP\"; 1958 \"ALGOL 58\"; 1959 \"FACT\"; 1959 \"COBOL\"; 1959 \"RPG\"; 1962 \"APL\"; 1962 \"Simula\"; 1962 \"SNOBOL\"; 1963 \"CPL\"; 1964 \"Speakeasy\"; 1964 \"BASIC\"; 1964 \"PL/I\"; 1966 \"JOSS\"; 1967 \"BCPL\"; 1968 \"Logo\"; 1969 \"B\"; 1970 \"Pascal\"; 1970 \"Forth\"; 1972 \"C\"; 1972 \"Smalltalk\"; 1972 \"Prolog\"; 1973 \"ML\"; 1975 \"Scheme\"; 1978 \"SQL \"; 1980 \"C++ \"; 1983 \"Ada\"; 1984 \"Common Lisp\"; 1984 \"MATLAB\"; 1984 \"dBase III\"; 1985 \"Eiffel\"; 1986 \"Objective-C\"; 1986 \"LabVIEW \"; 1986 \"Erlang\"; 1987 \"Perl\"; 1988 \"Tcl\"; 1988 \"Wolfram Language \"; 1989 \"FL \"; 1990 \"Haskell\"; 1991 \"Python\"; 1991 \"Visual Basic\"; 1993 \"Lua\"; 1993 \"R\"; 1994 \"CLOS \"; 1995 \"Ruby\"; 1995 \"Ada 95\"; 1995 \"Java\"; 1995 \"Delphi \"; 1995 \"JavaScript\"; 1995 \"PHP\"; 1997 \"Rebol\"; 2000 \"ActionScript\"; 2001 \"C#\"; 2001 \"D\"; 2002 \"Scratch\"; 2003 \"Groovy\"; 2003 \"Scala\"; 2005 \"F#\"; 2006 \"PowerShell\"; 2007 \"Clojure\"; 2009 \"Go\"; 2010 \"Rust\"; 2011 \"Dart\"; 2011 \"Kotlin\"; 2011 \"Red\"; 2011 \"Elixir\"; 2012 \"Julia\"; 2014 \"Swift\"]\n"
     ]
    }
   ],
   "source": [
    "proglang = XLSX.readxlsx(\"programming_languages.xlsx\")\n",
    "println(\"The initial return is a $(typeof(proglang)) object\")\n",
    "println(\"This can be indexed to find the first sheet, which is a $(typeof(proglang[1])) object\")\n",
    "println(\"The values in the first sheet can be unpacked into an array:\")\n",
    "println(proglang[\"Sheet1!A1:B74\"])"
   ]
  },
  {
   "cell_type": "markdown",
   "id": "8670e646",
   "metadata": {},
   "source": [
    "We can convert the values in a `XLSX.Worksheet` to a `DataFrame` by wrapping in the `DataFrame()` constructor, but we need to pass the `:auto` argument as well so that the column names are inferred"
   ]
  },
  {
   "cell_type": "code",
   "execution_count": 57,
   "id": "560ffa09",
   "metadata": {},
   "outputs": [
    {
     "data": {
      "text/html": [
       "<div class=\"data-frame\"><p>74 rows × 2 columns</p><table class=\"data-frame\"><thead><tr><th></th><th>x1</th><th>x2</th></tr><tr><th></th><th title=\"Any\">Any</th><th title=\"Any\">Any</th></tr></thead><tbody><tr><th>1</th><td>year</td><td>language</td></tr><tr><th>2</th><td>1951</td><td>Regional Assembly Language</td></tr><tr><th>3</th><td>1952</td><td>Autocode</td></tr><tr><th>4</th><td>1954</td><td>IPL</td></tr><tr><th>5</th><td>1955</td><td>FLOW-MATIC</td></tr><tr><th>6</th><td>1957</td><td>FORTRAN</td></tr><tr><th>7</th><td>1957</td><td>COMTRAN</td></tr><tr><th>8</th><td>1958</td><td>LISP</td></tr><tr><th>9</th><td>1958</td><td>ALGOL 58</td></tr><tr><th>10</th><td>1959</td><td>FACT</td></tr><tr><th>11</th><td>1959</td><td>COBOL</td></tr><tr><th>12</th><td>1959</td><td>RPG</td></tr><tr><th>13</th><td>1962</td><td>APL</td></tr><tr><th>14</th><td>1962</td><td>Simula</td></tr><tr><th>15</th><td>1962</td><td>SNOBOL</td></tr><tr><th>16</th><td>1963</td><td>CPL</td></tr><tr><th>17</th><td>1964</td><td>Speakeasy</td></tr><tr><th>18</th><td>1964</td><td>BASIC</td></tr><tr><th>19</th><td>1964</td><td>PL/I</td></tr><tr><th>20</th><td>1966</td><td>JOSS</td></tr><tr><th>21</th><td>1967</td><td>BCPL</td></tr><tr><th>22</th><td>1968</td><td>Logo</td></tr><tr><th>23</th><td>1969</td><td>B</td></tr><tr><th>24</th><td>1970</td><td>Pascal</td></tr><tr><th>25</th><td>1970</td><td>Forth</td></tr><tr><th>26</th><td>1972</td><td>C</td></tr><tr><th>27</th><td>1972</td><td>Smalltalk</td></tr><tr><th>28</th><td>1972</td><td>Prolog</td></tr><tr><th>29</th><td>1973</td><td>ML</td></tr><tr><th>30</th><td>1975</td><td>Scheme</td></tr><tr><th>&vellip;</th><td>&vellip;</td><td>&vellip;</td></tr></tbody></table></div>"
      ],
      "text/latex": [
       "\\begin{tabular}{r|cc}\n",
       "\t& x1 & x2\\\\\n",
       "\t\\hline\n",
       "\t& Any & Any\\\\\n",
       "\t\\hline\n",
       "\t1 & year & language \\\\\n",
       "\t2 & 1951 & Regional Assembly Language \\\\\n",
       "\t3 & 1952 & Autocode \\\\\n",
       "\t4 & 1954 & IPL \\\\\n",
       "\t5 & 1955 & FLOW-MATIC \\\\\n",
       "\t6 & 1957 & FORTRAN \\\\\n",
       "\t7 & 1957 & COMTRAN \\\\\n",
       "\t8 & 1958 & LISP \\\\\n",
       "\t9 & 1958 & ALGOL 58 \\\\\n",
       "\t10 & 1959 & FACT \\\\\n",
       "\t11 & 1959 & COBOL \\\\\n",
       "\t12 & 1959 & RPG \\\\\n",
       "\t13 & 1962 & APL \\\\\n",
       "\t14 & 1962 & Simula \\\\\n",
       "\t15 & 1962 & SNOBOL \\\\\n",
       "\t16 & 1963 & CPL \\\\\n",
       "\t17 & 1964 & Speakeasy \\\\\n",
       "\t18 & 1964 & BASIC \\\\\n",
       "\t19 & 1964 & PL/I \\\\\n",
       "\t20 & 1966 & JOSS \\\\\n",
       "\t21 & 1967 & BCPL \\\\\n",
       "\t22 & 1968 & Logo \\\\\n",
       "\t23 & 1969 & B \\\\\n",
       "\t24 & 1970 & Pascal \\\\\n",
       "\t25 & 1970 & Forth \\\\\n",
       "\t26 & 1972 & C \\\\\n",
       "\t27 & 1972 & Smalltalk \\\\\n",
       "\t28 & 1972 & Prolog \\\\\n",
       "\t29 & 1973 & ML \\\\\n",
       "\t30 & 1975 & Scheme \\\\\n",
       "\t$\\dots$ & $\\dots$ & $\\dots$ \\\\\n",
       "\\end{tabular}\n"
      ],
      "text/plain": [
       "\u001b[1m74×2 DataFrame\u001b[0m\n",
       "\u001b[1m Row \u001b[0m│\u001b[1m x1   \u001b[0m\u001b[1m x2                         \u001b[0m\n",
       "\u001b[1m     \u001b[0m│\u001b[90m Any  \u001b[0m\u001b[90m Any                        \u001b[0m\n",
       "─────┼──────────────────────────────────\n",
       "   1 │ year  language\n",
       "   2 │ 1951  Regional Assembly Language\n",
       "   3 │ 1952  Autocode\n",
       "   4 │ 1954  IPL\n",
       "   5 │ 1955  FLOW-MATIC\n",
       "   6 │ 1957  FORTRAN\n",
       "   7 │ 1957  COMTRAN\n",
       "   8 │ 1958  LISP\n",
       "   9 │ 1958  ALGOL 58\n",
       "  10 │ 1959  FACT\n",
       "  11 │ 1959  COBOL\n",
       "  ⋮  │  ⋮                ⋮\n",
       "  65 │ 2006  PowerShell\n",
       "  66 │ 2007  Clojure\n",
       "  67 │ 2009  Go\n",
       "  68 │ 2010  Rust\n",
       "  69 │ 2011  Dart\n",
       "  70 │ 2011  Kotlin\n",
       "  71 │ 2011  Red\n",
       "  72 │ 2011  Elixir\n",
       "  73 │ 2012  Julia\n",
       "  74 │ 2014  Swift\n",
       "\u001b[36m                         53 rows omitted\u001b[0m"
      ]
     },
     "execution_count": 57,
     "metadata": {},
     "output_type": "execute_result"
    }
   ],
   "source": [
    "DataFrame(proglang[\"Sheet1!A1:B74\"], :auto)"
   ]
  },
  {
   "cell_type": "markdown",
   "id": "89370557",
   "metadata": {},
   "source": [
    "If we know the sheet that we want to read, it's easier to use the `readtable()` function to return a `XLSX.DataTable` object."
   ]
  },
  {
   "cell_type": "code",
   "execution_count": 49,
   "id": "748dd743",
   "metadata": {},
   "outputs": [
    {
     "name": "stdout",
     "output_type": "stream",
     "text": [
      "XLSX.DataTable\n"
     ]
    }
   ],
   "source": [
    "proglang = XLSX.readtable(\"programming_languages.xlsx\", \"Sheet1\")\n",
    "println(typeof(proglang))"
   ]
  },
  {
   "cell_type": "markdown",
   "id": "60c3866f",
   "metadata": {},
   "source": [
    "The `XLSX.DataTable` can then be easily converted into a `DataFrame` by wrapping it in the `DataFrame()` constructor:"
   ]
  },
  {
   "cell_type": "code",
   "execution_count": 46,
   "id": "bdc0f47e",
   "metadata": {},
   "outputs": [
    {
     "data": {
      "text/html": [
       "<div class=\"data-frame\"><p>73 rows × 2 columns</p><table class=\"data-frame\"><thead><tr><th></th><th>year</th><th>language</th></tr><tr><th></th><th title=\"Any\">Any</th><th title=\"Any\">Any</th></tr></thead><tbody><tr><th>1</th><td>1951</td><td>Regional Assembly Language</td></tr><tr><th>2</th><td>1952</td><td>Autocode</td></tr><tr><th>3</th><td>1954</td><td>IPL</td></tr><tr><th>4</th><td>1955</td><td>FLOW-MATIC</td></tr><tr><th>5</th><td>1957</td><td>FORTRAN</td></tr><tr><th>6</th><td>1957</td><td>COMTRAN</td></tr><tr><th>7</th><td>1958</td><td>LISP</td></tr><tr><th>8</th><td>1958</td><td>ALGOL 58</td></tr><tr><th>9</th><td>1959</td><td>FACT</td></tr><tr><th>10</th><td>1959</td><td>COBOL</td></tr><tr><th>11</th><td>1959</td><td>RPG</td></tr><tr><th>12</th><td>1962</td><td>APL</td></tr><tr><th>13</th><td>1962</td><td>Simula</td></tr><tr><th>14</th><td>1962</td><td>SNOBOL</td></tr><tr><th>15</th><td>1963</td><td>CPL</td></tr><tr><th>16</th><td>1964</td><td>Speakeasy</td></tr><tr><th>17</th><td>1964</td><td>BASIC</td></tr><tr><th>18</th><td>1964</td><td>PL/I</td></tr><tr><th>19</th><td>1966</td><td>JOSS</td></tr><tr><th>20</th><td>1967</td><td>BCPL</td></tr><tr><th>21</th><td>1968</td><td>Logo</td></tr><tr><th>22</th><td>1969</td><td>B</td></tr><tr><th>23</th><td>1970</td><td>Pascal</td></tr><tr><th>24</th><td>1970</td><td>Forth</td></tr><tr><th>25</th><td>1972</td><td>C</td></tr><tr><th>26</th><td>1972</td><td>Smalltalk</td></tr><tr><th>27</th><td>1972</td><td>Prolog</td></tr><tr><th>28</th><td>1973</td><td>ML</td></tr><tr><th>29</th><td>1975</td><td>Scheme</td></tr><tr><th>30</th><td>1978</td><td>SQL </td></tr><tr><th>&vellip;</th><td>&vellip;</td><td>&vellip;</td></tr></tbody></table></div>"
      ],
      "text/latex": [
       "\\begin{tabular}{r|cc}\n",
       "\t& year & language\\\\\n",
       "\t\\hline\n",
       "\t& Any & Any\\\\\n",
       "\t\\hline\n",
       "\t1 & 1951 & Regional Assembly Language \\\\\n",
       "\t2 & 1952 & Autocode \\\\\n",
       "\t3 & 1954 & IPL \\\\\n",
       "\t4 & 1955 & FLOW-MATIC \\\\\n",
       "\t5 & 1957 & FORTRAN \\\\\n",
       "\t6 & 1957 & COMTRAN \\\\\n",
       "\t7 & 1958 & LISP \\\\\n",
       "\t8 & 1958 & ALGOL 58 \\\\\n",
       "\t9 & 1959 & FACT \\\\\n",
       "\t10 & 1959 & COBOL \\\\\n",
       "\t11 & 1959 & RPG \\\\\n",
       "\t12 & 1962 & APL \\\\\n",
       "\t13 & 1962 & Simula \\\\\n",
       "\t14 & 1962 & SNOBOL \\\\\n",
       "\t15 & 1963 & CPL \\\\\n",
       "\t16 & 1964 & Speakeasy \\\\\n",
       "\t17 & 1964 & BASIC \\\\\n",
       "\t18 & 1964 & PL/I \\\\\n",
       "\t19 & 1966 & JOSS \\\\\n",
       "\t20 & 1967 & BCPL \\\\\n",
       "\t21 & 1968 & Logo \\\\\n",
       "\t22 & 1969 & B \\\\\n",
       "\t23 & 1970 & Pascal \\\\\n",
       "\t24 & 1970 & Forth \\\\\n",
       "\t25 & 1972 & C \\\\\n",
       "\t26 & 1972 & Smalltalk \\\\\n",
       "\t27 & 1972 & Prolog \\\\\n",
       "\t28 & 1973 & ML \\\\\n",
       "\t29 & 1975 & Scheme \\\\\n",
       "\t30 & 1978 & SQL  \\\\\n",
       "\t$\\dots$ & $\\dots$ & $\\dots$ \\\\\n",
       "\\end{tabular}\n"
      ],
      "text/plain": [
       "\u001b[1m73×2 DataFrame\u001b[0m\n",
       "\u001b[1m Row \u001b[0m│\u001b[1m year \u001b[0m\u001b[1m language                   \u001b[0m\n",
       "\u001b[1m     \u001b[0m│\u001b[90m Any  \u001b[0m\u001b[90m Any                        \u001b[0m\n",
       "─────┼──────────────────────────────────\n",
       "   1 │ 1951  Regional Assembly Language\n",
       "   2 │ 1952  Autocode\n",
       "   3 │ 1954  IPL\n",
       "   4 │ 1955  FLOW-MATIC\n",
       "   5 │ 1957  FORTRAN\n",
       "   6 │ 1957  COMTRAN\n",
       "   7 │ 1958  LISP\n",
       "   8 │ 1958  ALGOL 58\n",
       "   9 │ 1959  FACT\n",
       "  10 │ 1959  COBOL\n",
       "  11 │ 1959  RPG\n",
       "  ⋮  │  ⋮                ⋮\n",
       "  64 │ 2006  PowerShell\n",
       "  65 │ 2007  Clojure\n",
       "  66 │ 2009  Go\n",
       "  67 │ 2010  Rust\n",
       "  68 │ 2011  Dart\n",
       "  69 │ 2011  Kotlin\n",
       "  70 │ 2011  Red\n",
       "  71 │ 2011  Elixir\n",
       "  72 │ 2012  Julia\n",
       "  73 │ 2014  Swift\n",
       "\u001b[36m                         52 rows omitted\u001b[0m"
      ]
     },
     "execution_count": 46,
     "metadata": {},
     "output_type": "execute_result"
    }
   ],
   "source": [
    "DataFrame(proglang)"
   ]
  },
  {
   "cell_type": "markdown",
   "id": "24ffb046",
   "metadata": {},
   "source": [
    "We can write XLSX files with the `XLSX.writetable()` function. This creates a XLSX file with one sheet containing our data, and is easiest to do with our data as a `DataFrame`. We pass the function 3 arguments:\n",
    "1. Name of the XLSX file as a string\n",
    "2. Values in each column, which can be obtained with `DataFrames.eachcol()`\n",
    "3. Names of each column, which can be obtained with `DataFrames.names()`"
   ]
  },
  {
   "cell_type": "code",
   "execution_count": 60,
   "id": "e0128a05",
   "metadata": {},
   "outputs": [],
   "source": [
    "proglang = DataFrame(XLSX.readtable(\"programming_languages.xlsx\", \"Sheet1\"))\n",
    "XLSX.writetable(\"proglang.xlsx\", collect(DataFrames.eachcol(proglang)), DataFrames.names(proglang))"
   ]
  },
  {
   "cell_type": "code",
   "execution_count": 62,
   "id": "c452459a",
   "metadata": {},
   "outputs": [
    {
     "data": {
      "text/plain": [
       "2-element Vector{String}:\n",
       " \"year\"\n",
       " \"language\""
      ]
     },
     "execution_count": 62,
     "metadata": {},
     "output_type": "execute_result"
    }
   ],
   "source": [
    "DataFrames.names(proglang)"
   ]
  },
  {
   "cell_type": "code",
   "execution_count": null,
   "id": "74c12cbd",
   "metadata": {},
   "outputs": [],
   "source": []
  }
 ],
 "metadata": {
  "kernelspec": {
   "display_name": "Julia 1.7.3",
   "language": "julia",
   "name": "julia-1.7"
  },
  "language_info": {
   "file_extension": ".jl",
   "mimetype": "application/julia",
   "name": "julia",
   "version": "1.7.3"
  }
 },
 "nbformat": 4,
 "nbformat_minor": 5
}
